{
 "cells": [
  {
   "cell_type": "markdown",
   "metadata": {},
   "source": [
    "![](images/salem.png)"
   ]
  },
  {
   "cell_type": "markdown",
   "metadata": {
    "slideshow": {
     "slide_type": "slide"
    }
   },
   "source": [
    "__Learning objectives:__\n",
    "\n",
    "* Learn about finite difference approximations to derivatives.\n",
    "* Be able to implement forward and central difference methods.\n",
    "* Calculate higher-order derivatives."
   ]
  },
  {
   "cell_type": "markdown",
   "metadata": {},
   "source": [
    "__Table of Contents__\n",
    "\n",
    "1. Taylor Series Method\n",
    "2. Method Of Undetermined Coefficients\n",
    "3. Polynomial Interpolation Method\n",
    "4. Operator Method"
   ]
  },
  {
   "cell_type": "markdown",
   "metadata": {},
   "source": [
    "# Taylor Series Method"
   ]
  },
  {
   "cell_type": "markdown",
   "metadata": {},
   "source": [
    "We can use a [Taylor series expansion](http://mathworld.wolfram.com/TaylorSeries.html) to estimate the accuracy of the method. Recall that Taylor series in one dimention tells us that we can expand an increment to the evaluation point of a function as follows:\n",
    "\n",
    "\\begin{align*}\n",
    "f(x_0+h)&=f(x_0)+hf'(x_0)+ \\frac{h^2}{2!}f''(x_0) + \\frac{h^3}{3!}f'''(x_0) + \\ldots\\\\ & =f(x_0)+hf'(x_0)+O(h^2)\n",
    "\\end{align*}\n",
    " \n",
    "where $O(h^2)$ represents the collection of terms that are second-order in $h$ or higher."
   ]
  },
  {
   "cell_type": "markdown",
   "metadata": {},
   "source": [
    "If we rearrange this expression to isolate the gradient term $f'(x_0)$ on the left hand side, we find:\n",
    "\n",
    " $$ hf'(x_0)=f(x_0+h)-f(x_0) +O(h^2) $$\n",
    " \n",
    "and therefore, by dividing through by $h$,\n",
    " \n",
    "$$ f'(x_0)=\\frac{f(x_0+h)-f(x_0)}{h}+O(h) $$\n",
    "\n",
    "As we are left with $O(h)$ at the end, we know that the forward difference method is first-order (i.e. $h^1$) -- as we make the spacing $h$ smaller we expect the error in our derivative to fall linearly."
   ]
  },
  {
   "cell_type": "markdown",
   "metadata": {},
   "source": [
    "For general numerical methods we generally strive for something better than this -- if we halve our $h$ (and so are doing twice as much (or more) work potentially) we would like our error to drop super-linearly: i.e. by a factor of 4 (second-order method) or 8 (third-order method) or more."
   ]
  },
  {
   "cell_type": "markdown",
   "metadata": {},
   "source": [
    "## First Order Derivative"
   ]
  },
  {
   "cell_type": "markdown",
   "metadata": {},
   "source": [
    "![](images/Finite_difference_method.svg)"
   ]
  },
  {
   "cell_type": "markdown",
   "metadata": {},
   "source": [
    "![](images/2.gif)"
   ]
  },
  {
   "cell_type": "markdown",
   "metadata": {},
   "source": [
    "### Forward Difference"
   ]
  },
  {
   "cell_type": "markdown",
   "metadata": {
    "slideshow": {
     "slide_type": "slide"
    }
   },
   "source": [
    "Forward Difference (Finite differences) are a class of approximation methods for estimating/computing derivatives of functions.\n",
    "\n",
    "Approximations to the derivatives of a function can be computed by using weighted sums of function evaluations at a number of points. The elementary definition of the derivative of a function $f$ at a point $x_0$ is given by:\n",
    "\n",
    " $$ f'(x_0)=\\lim_{h\\rightarrow 0} \\frac{f(x_0+h)-f(x_0)}{h} $$"
   ]
  },
  {
   "cell_type": "markdown",
   "metadata": {
    "slideshow": {
     "slide_type": "subslide"
    }
   },
   "source": [
    "We can turn this into an approximation rule for $f'(x)$ by replacing the limit as $h$ approaches $0$ with a small but finite $h$:\n",
    "\n",
    " $$ f'(x_0)\\approx \\frac{f(x_0+h)-f(x)}{h},\\qquad h>0 $$\n",
    "\n",
    "The figure below illustrates this approximation. Because the approximate gradient is calculated using values of $x$ greater than $x_0$, this algorithm is known as the **forward difference method**. In the figure the derivative is approximated by the slope of the red line, while the true derivative is the slope of the blue line -- if the second (and/or higher) derivative of the function is large then this approximation might not be very good unless you make $h$ very small."
   ]
  },
  {
   "cell_type": "markdown",
   "metadata": {
    "slideshow": {
     "slide_type": "subslide"
    }
   },
   "source": [
    "![](images/forward_diff.png)"
   ]
  },
  {
   "cell_type": "markdown",
   "metadata": {},
   "source": [
    "$$f(x+h) = f(x) + hf'(x) + \\frac{h^2}{2!}f''(\\zeta(x))$$\n",
    "\n",
    "$$f'(x)= \\frac{f(x+h)-f(x)}{h} - \\frac{h}{2}f''(\\zeta(x))$$\n"
   ]
  },
  {
   "cell_type": "markdown",
   "metadata": {
    "slideshow": {
     "slide_type": "slide"
    }
   },
   "source": [
    "## Central Difference\n",
    "\n",
    "In an attempt to derive a more accurate method, we use two Taylor series expansions; one in the positive $x$ direction from $x_0$, and one in the negative direction. Because we hope to achieve better than first order, we include an extra term in the series:\n",
    "\n",
    "$$ f(x_0+h)=f(x_0)+hf'(x_0)+\\frac{h^2}{2}f''(x_0) + O(h^3),$$\n",
    "\n",
    "$$ f(x_0-h)=f(x_0)-hf'(x_0)+\\frac{(-h)^2}{2}f''(x_0) + O((-h)^3).$$"
   ]
  },
  {
   "cell_type": "markdown",
   "metadata": {
    "slideshow": {
     "slide_type": "subslide"
    }
   },
   "source": [
    "Using the fact that $(-h)^2=h^2$ and the absolute value signs from the definition of $O$, this is equivalent to:\n",
    "\n",
    "$$ f(x_0+h)=f(x_0)+hf'(x_0)+\\frac{h^2}{2}f''(x_0) + O(h^3),$$\n",
    "  \n",
    "$$ f(x_0-h)=f(x_0)-hf'(x_0)+\\frac{h^2}{2}f''(x_0) + O(h^3).$$"
   ]
  },
  {
   "cell_type": "markdown",
   "metadata": {
    "slideshow": {
     "slide_type": "subslide"
    }
   },
   "source": [
    "Remember that we are looking for an expression for $f'(x_0)$. Noticing the sign change between the derivative terms in the two equations, we subtract the bottom equation from the top equation to give:\n",
    "\n",
    "$$ f(x_0+h)-f(x_0-h)=2hf'(x_0) + O(h^3).$$\n",
    "\n",
    "Finally, rearrange to get an expression for $f'(x_0)$:\n",
    "\n",
    "$$ f'(x_0)=\\frac{f(x_0+h)-f(x_0-h)}{2h} + O(h^2).$$"
   ]
  },
  {
   "cell_type": "markdown",
   "metadata": {
    "slideshow": {
     "slide_type": "subslide"
    }
   },
   "source": [
    "We can see that by taking an interval symmetric about $x_0$, we have created a second-order approximation for the derivative of $f$. This symmetry gives the scheme its name: the central difference method. The figure below illustrates this scheme. The derivative is approximated by the slope of the red line, while the true derivative is the slope of the blue line.  \n",
    "\n",
    "Even without the analysis above it's hopefully clear visually why this should in general give a lower error than the forward difference approach. However the analysis of the two methods does tell us that as we halve $h$ the error should drop by a factor 4 rather than the 2 we get for the first-order forward differencing."
   ]
  },
  {
   "cell_type": "markdown",
   "metadata": {},
   "source": [
    "![](images/central_diff.png)"
   ]
  },
  {
   "cell_type": "markdown",
   "metadata": {},
   "source": [
    "$$f(x+h) = f(x) + hf'(x) + \\frac{h^2}{2!}f''(\\zeta(x))$$\n",
    "$$f(x-h) = f(x) - hf'(x) + \\frac{h^2}{2!}f''(\\zeta(x))$$\n",
    "\n",
    "$$f'(x)= \\frac{f(x+h)-f(x-h)}{2h} - \\frac{h^2}{6}f'''(\\zeta(x))$$"
   ]
  },
  {
   "cell_type": "markdown",
   "metadata": {},
   "source": [
    "### Backward Difference"
   ]
  },
  {
   "cell_type": "markdown",
   "metadata": {},
   "source": [
    "$$f(x-h) = f(x) - hf'(x) + \\frac{h^2}{2!}f''(\\zeta(x))$$\n",
    "\n",
    "$$f'(x)= \\frac{f(x)-f(x+h)}{h} + \\frac{h}{2}f''(\\zeta(x))$$\n"
   ]
  },
  {
   "cell_type": "markdown",
   "metadata": {},
   "source": [
    "## Second Order Derivative"
   ]
  },
  {
   "cell_type": "markdown",
   "metadata": {},
   "source": [
    "Numerical differentiation may be extended to the second derivative by noting that the second derivative is the derivative of the first derivative."
   ]
  },
  {
   "cell_type": "markdown",
   "metadata": {},
   "source": [
    "![](images/second.jpg)"
   ]
  },
  {
   "cell_type": "markdown",
   "metadata": {},
   "source": [
    "$$f(x+h) = f(x) + hf'(x) + \\frac{h^2}{2!}f^{(2)}(x) + \\frac{h^3}{3!}f^{(3)}(x) + \\frac{h^4}{4!}f^{(4)}(\\zeta(x))$$\n",
    "$$f(x-h) = f(x) - hf'(x) + \\frac{h^2}{2!}f^{(2)}(x) - \\frac{h^3}{3!}f^{(3)}(x) + \\frac{h^4}{4!}f^{(4)}(\\zeta(x))$$\n",
    "\n",
    "$$f''(x)= \\frac{f(x+h)-2f(x)+f(x-h)}{h^2} - \\frac{h^2}{12}f^{(4)}(\\zeta(x))$$"
   ]
  },
  {
   "cell_type": "markdown",
   "metadata": {
    "slideshow": {
     "slide_type": "slide"
    }
   },
   "source": [
    "### Example: \n",
    "*** Compute the first and second derivative (analytical and numerical) of $f(x) = e^x\\sin(x)$ ***"
   ]
  },
  {
   "cell_type": "markdown",
   "metadata": {},
   "source": [
    "#### First Order Derivative :-"
   ]
  },
  {
   "cell_type": "markdown",
   "metadata": {},
   "source": [
    "##### How to find the analytical answer with Python"
   ]
  },
  {
   "cell_type": "code",
   "execution_count": 1,
   "metadata": {},
   "outputs": [],
   "source": [
    "# point of interset, Compute derivative at x = x0\n",
    "x0 = 1.9"
   ]
  },
  {
   "cell_type": "markdown",
   "metadata": {},
   "source": [
    "__*1. Using Automatic Derivatives*__\n",
    "\n",
    "Tensorflow (tensorflow eager), Theano or Pytorch are best algorithms to compute the derivative using Automatic Derivatives method. In this section we will show how use Pytorch to find the derivative (gradient for the function)."
   ]
  },
  {
   "cell_type": "code",
   "execution_count": 2,
   "metadata": {},
   "outputs": [
    {
     "name": "stdout",
     "output_type": "stream",
     "text": [
      "real_value =  4.1653824\n"
     ]
    }
   ],
   "source": [
    "import torch\n",
    "import numpy as np\n",
    "x = torch.autograd.Variable(torch.Tensor([x0]),requires_grad=True)\n",
    "y = torch.exp(x) * torch.sin(x)\n",
    "y.backward()\n",
    "real_value = np.array(x.grad)[0]\n",
    "print(\"real_value = \", real_value)"
   ]
  },
  {
   "cell_type": "markdown",
   "metadata": {},
   "source": [
    "__*2. Using Symbolic Differentiation*__\n",
    "\n",
    "Symbolic methods are getting quite robust these days. SymPy is an excellent project for this that integrates well with NumPy. "
   ]
  },
  {
   "cell_type": "code",
   "execution_count": 3,
   "metadata": {},
   "outputs": [
    {
     "name": "stdout",
     "output_type": "stream",
     "text": [
      "yprime =  exp(x)*sin(x) + exp(x)*cos(x)\n"
     ]
    }
   ],
   "source": [
    "from sympy import *\n",
    "x = Symbol('x')\n",
    "z = exp(x)*sin(x)\n",
    "yprime = z.diff(x)\n",
    "print(\"yprime = \", yprime)\n",
    "f = lambdify(x, yprime, 'numpy')"
   ]
  },
  {
   "cell_type": "code",
   "execution_count": 4,
   "metadata": {},
   "outputs": [
    {
     "name": "stdout",
     "output_type": "stream",
     "text": [
      "real_value =  4.1653825786581\n"
     ]
    }
   ],
   "source": [
    "real_value = f(x0)\n",
    "print(\"real_value = \", real_value)"
   ]
  },
  {
   "cell_type": "markdown",
   "metadata": {},
   "source": [
    "##### How to find the numerical answer with Python"
   ]
  },
  {
   "cell_type": "markdown",
   "metadata": {},
   "source": [
    "#### Finite Differences"
   ]
  },
  {
   "cell_type": "markdown",
   "metadata": {},
   "source": [
    "##### 1. Forward Difference\n",
    "\n",
    "$f'(x)= \\frac{f(x+h)-f(x)}{h} - \\frac{h}{2}f''(\\zeta(x))$"
   ]
  },
  {
   "cell_type": "code",
   "execution_count": 5,
   "metadata": {},
   "outputs": [
    {
     "data": {
      "text/html": [
       "<div>\n",
       "<style scoped>\n",
       "    .dataframe tbody tr th:only-of-type {\n",
       "        vertical-align: middle;\n",
       "    }\n",
       "\n",
       "    .dataframe tbody tr th {\n",
       "        vertical-align: top;\n",
       "    }\n",
       "\n",
       "    .dataframe thead th {\n",
       "        text-align: right;\n",
       "    }\n",
       "</style>\n",
       "<table border=\"1\" class=\"dataframe\">\n",
       "  <thead>\n",
       "    <tr style=\"text-align: right;\">\n",
       "      <th></th>\n",
       "      <th>1_h</th>\n",
       "      <th>2_dfdx</th>\n",
       "      <th>3_Actual Abs. Err.</th>\n",
       "      <th>4_Actual Relative Err.</th>\n",
       "    </tr>\n",
       "  </thead>\n",
       "  <tbody>\n",
       "    <tr>\n",
       "      <th>0</th>\n",
       "      <td>0.050000</td>\n",
       "      <td>4.050102</td>\n",
       "      <td>0.115280</td>\n",
       "      <td>2.767580</td>\n",
       "    </tr>\n",
       "    <tr>\n",
       "      <th>1</th>\n",
       "      <td>0.025000</td>\n",
       "      <td>4.109561</td>\n",
       "      <td>0.055822</td>\n",
       "      <td>1.340139</td>\n",
       "    </tr>\n",
       "    <tr>\n",
       "      <th>2</th>\n",
       "      <td>0.012500</td>\n",
       "      <td>4.137920</td>\n",
       "      <td>0.027463</td>\n",
       "      <td>0.659307</td>\n",
       "    </tr>\n",
       "    <tr>\n",
       "      <th>3</th>\n",
       "      <td>0.006250</td>\n",
       "      <td>4.151763</td>\n",
       "      <td>0.013620</td>\n",
       "      <td>0.326982</td>\n",
       "    </tr>\n",
       "    <tr>\n",
       "      <th>4</th>\n",
       "      <td>0.003125</td>\n",
       "      <td>4.158600</td>\n",
       "      <td>0.006782</td>\n",
       "      <td>0.162825</td>\n",
       "    </tr>\n",
       "    <tr>\n",
       "      <th>5</th>\n",
       "      <td>0.001563</td>\n",
       "      <td>4.161998</td>\n",
       "      <td>0.003384</td>\n",
       "      <td>0.081246</td>\n",
       "    </tr>\n",
       "    <tr>\n",
       "      <th>6</th>\n",
       "      <td>0.000781</td>\n",
       "      <td>4.163692</td>\n",
       "      <td>0.001690</td>\n",
       "      <td>0.040582</td>\n",
       "    </tr>\n",
       "    <tr>\n",
       "      <th>7</th>\n",
       "      <td>0.000391</td>\n",
       "      <td>4.164538</td>\n",
       "      <td>0.000845</td>\n",
       "      <td>0.020280</td>\n",
       "    </tr>\n",
       "    <tr>\n",
       "      <th>8</th>\n",
       "      <td>0.000195</td>\n",
       "      <td>4.164960</td>\n",
       "      <td>0.000422</td>\n",
       "      <td>0.010138</td>\n",
       "    </tr>\n",
       "  </tbody>\n",
       "</table>\n",
       "</div>"
      ],
      "text/plain": [
       "        1_h    2_dfdx  3_Actual Abs. Err.  4_Actual Relative Err.\n",
       "0  0.050000  4.050102            0.115280                2.767580\n",
       "1  0.025000  4.109561            0.055822                1.340139\n",
       "2  0.012500  4.137920            0.027463                0.659307\n",
       "3  0.006250  4.151763            0.013620                0.326982\n",
       "4  0.003125  4.158600            0.006782                0.162825\n",
       "5  0.001563  4.161998            0.003384                0.081246\n",
       "6  0.000781  4.163692            0.001690                0.040582\n",
       "7  0.000391  4.164538            0.000845                0.020280\n",
       "8  0.000195  4.164960            0.000422                0.010138"
      ]
     },
     "execution_count": 5,
     "metadata": {},
     "output_type": "execute_result"
    }
   ],
   "source": [
    "NoOfItration = 9\n",
    "import pandas as pd\n",
    "h = np.zeros(9)\n",
    "x = np.zeros(9)+x0\n",
    "for i in range(NoOfItration):\n",
    "    h[i] = 0.05/2**i\n",
    "xplus=x+h\n",
    "f=np.exp(x)*np.sin(x)\n",
    "fplus=np.exp(xplus)*np.sin(xplus)\n",
    "num=fplus-f\n",
    "deriv=num/h\n",
    "df = pd.DataFrame(\n",
    "    {'1_h':h,\n",
    "     '2_dfdx': deriv,\n",
    "     '3_Actual Abs. Err.': np.abs(real_value-deriv),\n",
    "     '4_Actual Relative Err.': np.abs((real_value-deriv)/real_value*100)\n",
    "    })\n",
    "df"
   ]
  },
  {
   "cell_type": "markdown",
   "metadata": {},
   "source": [
    "##### 2. Backward Difference\n",
    "\n",
    "\n",
    "$f'(x)= \\frac{f(x)-f(x+h)}{h} + \\frac{h}{2}f''(\\zeta(x))$"
   ]
  },
  {
   "cell_type": "code",
   "execution_count": 6,
   "metadata": {},
   "outputs": [
    {
     "data": {
      "text/html": [
       "<div>\n",
       "<style scoped>\n",
       "    .dataframe tbody tr th:only-of-type {\n",
       "        vertical-align: middle;\n",
       "    }\n",
       "\n",
       "    .dataframe tbody tr th {\n",
       "        vertical-align: top;\n",
       "    }\n",
       "\n",
       "    .dataframe thead th {\n",
       "        text-align: right;\n",
       "    }\n",
       "</style>\n",
       "<table border=\"1\" class=\"dataframe\">\n",
       "  <thead>\n",
       "    <tr style=\"text-align: right;\">\n",
       "      <th></th>\n",
       "      <th>1_h</th>\n",
       "      <th>2_dfdx</th>\n",
       "      <th>3_Actual Abs. Err.</th>\n",
       "      <th>4_Actual Relative Err.</th>\n",
       "    </tr>\n",
       "  </thead>\n",
       "  <tbody>\n",
       "    <tr>\n",
       "      <th>0</th>\n",
       "      <td>0.050000</td>\n",
       "      <td>4.266514</td>\n",
       "      <td>0.101131</td>\n",
       "      <td>2.427900</td>\n",
       "    </tr>\n",
       "    <tr>\n",
       "      <th>1</th>\n",
       "      <td>0.025000</td>\n",
       "      <td>4.217668</td>\n",
       "      <td>0.052285</td>\n",
       "      <td>1.255227</td>\n",
       "    </tr>\n",
       "    <tr>\n",
       "      <th>2</th>\n",
       "      <td>0.012500</td>\n",
       "      <td>4.191961</td>\n",
       "      <td>0.026578</td>\n",
       "      <td>0.638080</td>\n",
       "    </tr>\n",
       "    <tr>\n",
       "      <th>3</th>\n",
       "      <td>0.006250</td>\n",
       "      <td>4.178782</td>\n",
       "      <td>0.013399</td>\n",
       "      <td>0.321675</td>\n",
       "    </tr>\n",
       "    <tr>\n",
       "      <th>4</th>\n",
       "      <td>0.003125</td>\n",
       "      <td>4.172110</td>\n",
       "      <td>0.006727</td>\n",
       "      <td>0.161498</td>\n",
       "    </tr>\n",
       "    <tr>\n",
       "      <th>5</th>\n",
       "      <td>0.001563</td>\n",
       "      <td>4.168753</td>\n",
       "      <td>0.003370</td>\n",
       "      <td>0.080915</td>\n",
       "    </tr>\n",
       "    <tr>\n",
       "      <th>6</th>\n",
       "      <td>0.000781</td>\n",
       "      <td>4.167070</td>\n",
       "      <td>0.001687</td>\n",
       "      <td>0.040499</td>\n",
       "    </tr>\n",
       "    <tr>\n",
       "      <th>7</th>\n",
       "      <td>0.000391</td>\n",
       "      <td>4.166226</td>\n",
       "      <td>0.000844</td>\n",
       "      <td>0.020260</td>\n",
       "    </tr>\n",
       "    <tr>\n",
       "      <th>8</th>\n",
       "      <td>0.000195</td>\n",
       "      <td>4.165805</td>\n",
       "      <td>0.000422</td>\n",
       "      <td>0.010132</td>\n",
       "    </tr>\n",
       "  </tbody>\n",
       "</table>\n",
       "</div>"
      ],
      "text/plain": [
       "        1_h    2_dfdx  3_Actual Abs. Err.  4_Actual Relative Err.\n",
       "0  0.050000  4.266514            0.101131                2.427900\n",
       "1  0.025000  4.217668            0.052285                1.255227\n",
       "2  0.012500  4.191961            0.026578                0.638080\n",
       "3  0.006250  4.178782            0.013399                0.321675\n",
       "4  0.003125  4.172110            0.006727                0.161498\n",
       "5  0.001563  4.168753            0.003370                0.080915\n",
       "6  0.000781  4.167070            0.001687                0.040499\n",
       "7  0.000391  4.166226            0.000844                0.020260\n",
       "8  0.000195  4.165805            0.000422                0.010132"
      ]
     },
     "execution_count": 6,
     "metadata": {},
     "output_type": "execute_result"
    }
   ],
   "source": [
    "h = np.zeros(9)\n",
    "x = np.zeros(9)+x0\n",
    "for i in range(NoOfItration):\n",
    "    h[i] = 0.05/2**i\n",
    "xmines=x-h\n",
    "f=np.exp(x)*np.sin(x)\n",
    "fmins=np.exp(xmines)*np.sin(xmines)\n",
    "num=f - fmins\n",
    "deriv=num/h\n",
    "dfmins = pd.DataFrame(\n",
    "    {'1_h':h,\n",
    "     '2_dfdx': deriv,\n",
    "     '3_Actual Abs. Err.': np.abs(real_value-deriv),\n",
    "     '4_Actual Relative Err.': np.abs((real_value-deriv)/real_value*100)\n",
    "    })\n",
    "dfmins"
   ]
  },
  {
   "cell_type": "markdown",
   "metadata": {},
   "source": [
    "##### 3. Central Difference\n",
    "\n",
    "\n",
    "$f'(x)= \\frac{f(x+h)-f(x-h)}{2h} - \\frac{h^2}{6}f'''(\\zeta(x))$"
   ]
  },
  {
   "cell_type": "code",
   "execution_count": 7,
   "metadata": {},
   "outputs": [
    {
     "data": {
      "text/html": [
       "<div>\n",
       "<style scoped>\n",
       "    .dataframe tbody tr th:only-of-type {\n",
       "        vertical-align: middle;\n",
       "    }\n",
       "\n",
       "    .dataframe tbody tr th {\n",
       "        vertical-align: top;\n",
       "    }\n",
       "\n",
       "    .dataframe thead th {\n",
       "        text-align: right;\n",
       "    }\n",
       "</style>\n",
       "<table border=\"1\" class=\"dataframe\">\n",
       "  <thead>\n",
       "    <tr style=\"text-align: right;\">\n",
       "      <th></th>\n",
       "      <th>1_h</th>\n",
       "      <th>2_dfdx</th>\n",
       "      <th>3_Actual Abs. Err.</th>\n",
       "      <th>4_Actual Relative Err.</th>\n",
       "    </tr>\n",
       "  </thead>\n",
       "  <tbody>\n",
       "    <tr>\n",
       "      <th>0</th>\n",
       "      <td>0.050000</td>\n",
       "      <td>4.158308</td>\n",
       "      <td>7.074486e-03</td>\n",
       "      <td>0.169840</td>\n",
       "    </tr>\n",
       "    <tr>\n",
       "      <th>1</th>\n",
       "      <td>0.025000</td>\n",
       "      <td>4.163614</td>\n",
       "      <td>1.768459e-03</td>\n",
       "      <td>0.042456</td>\n",
       "    </tr>\n",
       "    <tr>\n",
       "      <th>2</th>\n",
       "      <td>0.012500</td>\n",
       "      <td>4.164940</td>\n",
       "      <td>4.421046e-04</td>\n",
       "      <td>0.010614</td>\n",
       "    </tr>\n",
       "    <tr>\n",
       "      <th>3</th>\n",
       "      <td>0.006250</td>\n",
       "      <td>4.165272</td>\n",
       "      <td>1.105255e-04</td>\n",
       "      <td>0.002653</td>\n",
       "    </tr>\n",
       "    <tr>\n",
       "      <th>4</th>\n",
       "      <td>0.003125</td>\n",
       "      <td>4.165355</td>\n",
       "      <td>2.763134e-05</td>\n",
       "      <td>0.000663</td>\n",
       "    </tr>\n",
       "    <tr>\n",
       "      <th>5</th>\n",
       "      <td>0.001563</td>\n",
       "      <td>4.165376</td>\n",
       "      <td>6.907832e-06</td>\n",
       "      <td>0.000166</td>\n",
       "    </tr>\n",
       "    <tr>\n",
       "      <th>6</th>\n",
       "      <td>0.000781</td>\n",
       "      <td>4.165381</td>\n",
       "      <td>1.726958e-06</td>\n",
       "      <td>0.000041</td>\n",
       "    </tr>\n",
       "    <tr>\n",
       "      <th>7</th>\n",
       "      <td>0.000391</td>\n",
       "      <td>4.165382</td>\n",
       "      <td>4.317384e-07</td>\n",
       "      <td>0.000010</td>\n",
       "    </tr>\n",
       "    <tr>\n",
       "      <th>8</th>\n",
       "      <td>0.000195</td>\n",
       "      <td>4.165382</td>\n",
       "      <td>1.079344e-07</td>\n",
       "      <td>0.000003</td>\n",
       "    </tr>\n",
       "  </tbody>\n",
       "</table>\n",
       "</div>"
      ],
      "text/plain": [
       "        1_h    2_dfdx  3_Actual Abs. Err.  4_Actual Relative Err.\n",
       "0  0.050000  4.158308        7.074486e-03                0.169840\n",
       "1  0.025000  4.163614        1.768459e-03                0.042456\n",
       "2  0.012500  4.164940        4.421046e-04                0.010614\n",
       "3  0.006250  4.165272        1.105255e-04                0.002653\n",
       "4  0.003125  4.165355        2.763134e-05                0.000663\n",
       "5  0.001563  4.165376        6.907832e-06                0.000166\n",
       "6  0.000781  4.165381        1.726958e-06                0.000041\n",
       "7  0.000391  4.165382        4.317384e-07                0.000010\n",
       "8  0.000195  4.165382        1.079344e-07                0.000003"
      ]
     },
     "execution_count": 7,
     "metadata": {},
     "output_type": "execute_result"
    }
   ],
   "source": [
    "h = np.zeros(9)\n",
    "x = np.zeros(9)+x0\n",
    "for i in range(NoOfItration):\n",
    "    h[i] = 0.05/2**i\n",
    "xmines=x-h\n",
    "xplus = x+h\n",
    "fmins=np.exp(xmines)*np.sin(xmines)\n",
    "fplus=np.exp(xplus)*np.sin(xplus)\n",
    "num=fplus - fmins\n",
    "deriv=num/(2*h)\n",
    "dfcentral = pd.DataFrame(\n",
    "    {'1_h':h,\n",
    "     '2_dfdx': deriv,\n",
    "     '3_Actual Abs. Err.': np.abs(real_value-deriv),\n",
    "     '4_Actual Relative Err.': np.abs((real_value-deriv)/real_value*100)\n",
    "    })\n",
    "dfcentral"
   ]
  },
  {
   "cell_type": "markdown",
   "metadata": {},
   "source": [
    "#### Second Order Derivative :-"
   ]
  },
  {
   "cell_type": "markdown",
   "metadata": {},
   "source": [
    "##### How to find the analytical answer with Python"
   ]
  },
  {
   "cell_type": "code",
   "execution_count": 8,
   "metadata": {},
   "outputs": [
    {
     "name": "stdout",
     "output_type": "stream",
     "text": [
      "yprime =  exp(x)*sin(x) + exp(x)*cos(x)\n"
     ]
    }
   ],
   "source": [
    "from sympy import *\n",
    "x = Symbol('x')\n",
    "z = exp(x)*sin(x)\n",
    "yDprime = z.diff(x,x)\n",
    "print(\"yprime = \", yprime)\n",
    "f = lambdify(x, yDprime, 'numpy')"
   ]
  },
  {
   "cell_type": "code",
   "execution_count": 9,
   "metadata": {},
   "outputs": [
    {
     "name": "stdout",
     "output_type": "stream",
     "text": [
      "The Second Order Derivative using analytic method =  -4.322959836679138\n"
     ]
    }
   ],
   "source": [
    "real_value = f(x0)\n",
    "print(\"The Second Order Derivative using analytic method = \", real_value)"
   ]
  },
  {
   "cell_type": "markdown",
   "metadata": {},
   "source": [
    "##### How to find the numerical answer with Python\n",
    "\n",
    "\n",
    "$f''(x)= \\frac{f(x+h)-2f(x)+f(x-h)}{h^2} - \\frac{h^2}{24}f^{(4)}(\\zeta(x))$"
   ]
  },
  {
   "cell_type": "code",
   "execution_count": 10,
   "metadata": {},
   "outputs": [
    {
     "name": "stdout",
     "output_type": "stream",
     "text": [
      "\n",
      "The Second Order Derivative using numerical method\n",
      "\n"
     ]
    },
    {
     "data": {
      "text/html": [
       "<div>\n",
       "<style scoped>\n",
       "    .dataframe tbody tr th:only-of-type {\n",
       "        vertical-align: middle;\n",
       "    }\n",
       "\n",
       "    .dataframe tbody tr th {\n",
       "        vertical-align: top;\n",
       "    }\n",
       "\n",
       "    .dataframe thead th {\n",
       "        text-align: right;\n",
       "    }\n",
       "</style>\n",
       "<table border=\"1\" class=\"dataframe\">\n",
       "  <thead>\n",
       "    <tr style=\"text-align: right;\">\n",
       "      <th></th>\n",
       "      <th>1_h</th>\n",
       "      <th>2_dfdx</th>\n",
       "      <th>3_Actual Abs. Err.</th>\n",
       "      <th>4_Actual Relative Err.</th>\n",
       "    </tr>\n",
       "  </thead>\n",
       "  <tbody>\n",
       "    <tr>\n",
       "      <th>0</th>\n",
       "      <td>0.050000</td>\n",
       "      <td>-4.328232</td>\n",
       "      <td>5.272085e-03</td>\n",
       "      <td>0.121955</td>\n",
       "    </tr>\n",
       "    <tr>\n",
       "      <th>1</th>\n",
       "      <td>0.025000</td>\n",
       "      <td>-4.324278</td>\n",
       "      <td>1.318078e-03</td>\n",
       "      <td>0.030490</td>\n",
       "    </tr>\n",
       "    <tr>\n",
       "      <th>2</th>\n",
       "      <td>0.012500</td>\n",
       "      <td>-4.323289</td>\n",
       "      <td>3.295229e-04</td>\n",
       "      <td>0.007623</td>\n",
       "    </tr>\n",
       "    <tr>\n",
       "      <th>3</th>\n",
       "      <td>0.006250</td>\n",
       "      <td>-4.323042</td>\n",
       "      <td>8.238093e-05</td>\n",
       "      <td>0.001906</td>\n",
       "    </tr>\n",
       "    <tr>\n",
       "      <th>4</th>\n",
       "      <td>0.003125</td>\n",
       "      <td>-4.322980</td>\n",
       "      <td>2.059520e-05</td>\n",
       "      <td>0.000476</td>\n",
       "    </tr>\n",
       "    <tr>\n",
       "      <th>5</th>\n",
       "      <td>0.001563</td>\n",
       "      <td>-4.322965</td>\n",
       "      <td>5.148434e-06</td>\n",
       "      <td>0.000119</td>\n",
       "    </tr>\n",
       "    <tr>\n",
       "      <th>6</th>\n",
       "      <td>0.000781</td>\n",
       "      <td>-4.322961</td>\n",
       "      <td>1.285992e-06</td>\n",
       "      <td>0.000030</td>\n",
       "    </tr>\n",
       "    <tr>\n",
       "      <th>7</th>\n",
       "      <td>0.000391</td>\n",
       "      <td>-4.322960</td>\n",
       "      <td>3.153788e-07</td>\n",
       "      <td>0.000007</td>\n",
       "    </tr>\n",
       "    <tr>\n",
       "      <th>8</th>\n",
       "      <td>0.000195</td>\n",
       "      <td>-4.322960</td>\n",
       "      <td>6.508585e-08</td>\n",
       "      <td>0.000002</td>\n",
       "    </tr>\n",
       "  </tbody>\n",
       "</table>\n",
       "</div>"
      ],
      "text/plain": [
       "        1_h    2_dfdx  3_Actual Abs. Err.  4_Actual Relative Err.\n",
       "0  0.050000 -4.328232        5.272085e-03                0.121955\n",
       "1  0.025000 -4.324278        1.318078e-03                0.030490\n",
       "2  0.012500 -4.323289        3.295229e-04                0.007623\n",
       "3  0.006250 -4.323042        8.238093e-05                0.001906\n",
       "4  0.003125 -4.322980        2.059520e-05                0.000476\n",
       "5  0.001563 -4.322965        5.148434e-06                0.000119\n",
       "6  0.000781 -4.322961        1.285992e-06                0.000030\n",
       "7  0.000391 -4.322960        3.153788e-07                0.000007\n",
       "8  0.000195 -4.322960        6.508585e-08                0.000002"
      ]
     },
     "execution_count": 10,
     "metadata": {},
     "output_type": "execute_result"
    }
   ],
   "source": [
    "h = np.zeros(9)\n",
    "x = np.zeros(9)+x0\n",
    "for i in range(NoOfItration):\n",
    "    h[i] = 0.05/2**i\n",
    "xmines=x-h\n",
    "xplus = x+h\n",
    "fmins=np.exp(xmines)*np.sin(xmines)\n",
    "f=np.exp(x)*np.sin(x)\n",
    "fplus=np.exp(xplus)*np.sin(xplus)\n",
    "num=fplus - 2*f + fmins\n",
    "deriv=num/(h**2)\n",
    "dfDD = pd.DataFrame(\n",
    "    {'1_h':h,\n",
    "     '2_dfdx': deriv,\n",
    "     '3_Actual Abs. Err.': np.abs(real_value-deriv),\n",
    "     '4_Actual Relative Err.': np.abs((real_value-deriv)/real_value*100)\n",
    "    })\n",
    "print(\"\\nThe Second Order Derivative using numerical method\\n\")\n",
    "dfDD"
   ]
  },
  {
   "cell_type": "markdown",
   "metadata": {},
   "source": [
    "# Method of Undetermined Coefficients"
   ]
  },
  {
   "cell_type": "markdown",
   "metadata": {},
   "source": [
    "In this section we present the method of undetermined coefficients, which is a very\n",
    "practical way for generating approximations of derivatives"
   ]
  },
  {
   "cell_type": "markdown",
   "metadata": {},
   "source": [
    "## Central Difference"
   ]
  },
  {
   "cell_type": "markdown",
   "metadata": {},
   "source": [
    "### Three-points Formula"
   ]
  },
  {
   "cell_type": "markdown",
   "metadata": {},
   "source": [
    "#### First Order Derivative $f'$"
   ]
  },
  {
   "cell_type": "markdown",
   "metadata": {},
   "source": [
    "$f'(x) = \\frac{1}{h}[A1f(x-h) + A2f(x) + A3f(x+h)]$\n",
    "\n",
    "Assume $f(x)=1, f(x)=x, f(x)=x^2$ find the coefficents $A1, A2$ and $A3$ \n",
    "\n",
    "$f'(x) = \\frac{1}{2h}[f(x-h) - f(x+h)] - \\frac{h^2}{6}f'''(\\zeta(x))$\n"
   ]
  },
  {
   "cell_type": "markdown",
   "metadata": {},
   "source": [
    "#### Second Order Derivative $f''$"
   ]
  },
  {
   "cell_type": "markdown",
   "metadata": {},
   "source": [
    "$f'(x) = \\frac{1}{h^2}[A1f(x-h) + A2f(x) + A3f(x+h)]$\n",
    "\n",
    "Assume $f(x)=1, f(x)=x, f(x)=x^2$ find the coefficents $A1, A2$ and $A3$ \n",
    "\n",
    "$f'(x) = \\frac{1}{h^2}[f(x-h) -2f(x) + f(x+h)] - \\frac{h^2}{12}f^{(4)}(\\zeta(x))$\n"
   ]
  },
  {
   "cell_type": "markdown",
   "metadata": {},
   "source": [
    "## Forward Difference"
   ]
  },
  {
   "cell_type": "markdown",
   "metadata": {},
   "source": [
    "### Three-points Formula\n"
   ]
  },
  {
   "cell_type": "markdown",
   "metadata": {},
   "source": [
    "$f'(x) = \\frac{1}{h}[A1f(x) + A2f(x+h) + A3f(x+2h)]$\n",
    "\n",
    "Assume $f(x)=1, f(x)=x, f(x)=x^2$ find the coefficents $A1, A2$ and $A3$ \n",
    "\n",
    "$f'(x) = \\frac{1}{2h}[-3f(x) + 4f(x+h) - f(x+2h)] - \\frac{h^2}{3}f'''(\\zeta(x))$\n"
   ]
  },
  {
   "cell_type": "markdown",
   "metadata": {},
   "source": [
    "## Backward Difference"
   ]
  },
  {
   "cell_type": "markdown",
   "metadata": {},
   "source": [
    "### Three-points Formula\n"
   ]
  },
  {
   "cell_type": "markdown",
   "metadata": {},
   "source": [
    "$f'(x) = \\frac{1}{h}[A1f(x-2h) + A2f(x-h) + A3f(x)]$\n",
    "\n",
    "Assume $f(x)=1, f(x)=x, f(x)=x^2$ find the coefficents $A1, A2$ and $A3$ \n",
    "\n",
    "$f'(x) = \\frac{1}{2h}[f(x) - 4f(x+h) - f(x+2h)] + \\frac{h^2}{3}f'''(\\zeta(x))$\n"
   ]
  },
  {
   "cell_type": "code",
   "execution_count": 11,
   "metadata": {},
   "outputs": [],
   "source": [
    "df = pd.read_csv(\"data/3points.csv\")"
   ]
  },
  {
   "cell_type": "markdown",
   "metadata": {},
   "source": [
    "## Example\n",
    "The following table contains the values of $f(x)=xe^x$"
   ]
  },
  {
   "cell_type": "code",
   "execution_count": 12,
   "metadata": {},
   "outputs": [
    {
     "data": {
      "text/html": [
       "<div>\n",
       "<style scoped>\n",
       "    .dataframe tbody tr th:only-of-type {\n",
       "        vertical-align: middle;\n",
       "    }\n",
       "\n",
       "    .dataframe tbody tr th {\n",
       "        vertical-align: top;\n",
       "    }\n",
       "\n",
       "    .dataframe thead th {\n",
       "        text-align: right;\n",
       "    }\n",
       "</style>\n",
       "<table border=\"1\" class=\"dataframe\">\n",
       "  <thead>\n",
       "    <tr style=\"text-align: right;\">\n",
       "      <th></th>\n",
       "      <th>x</th>\n",
       "      <th>F_x</th>\n",
       "    </tr>\n",
       "  </thead>\n",
       "  <tbody>\n",
       "    <tr>\n",
       "      <th>0</th>\n",
       "      <td>1.9</td>\n",
       "      <td>12.703199</td>\n",
       "    </tr>\n",
       "    <tr>\n",
       "      <th>1</th>\n",
       "      <td>2.0</td>\n",
       "      <td>14.778112</td>\n",
       "    </tr>\n",
       "    <tr>\n",
       "      <th>2</th>\n",
       "      <td>2.1</td>\n",
       "      <td>17.148957</td>\n",
       "    </tr>\n",
       "  </tbody>\n",
       "</table>\n",
       "</div>"
      ],
      "text/plain": [
       "     x        F_x\n",
       "0  1.9  12.703199\n",
       "1  2.0  14.778112\n",
       "2  2.1  17.148957"
      ]
     },
     "execution_count": 12,
     "metadata": {},
     "output_type": "execute_result"
    }
   ],
   "source": [
    "df"
   ]
  },
  {
   "cell_type": "markdown",
   "metadata": {},
   "source": [
    "Approximate $f'$ at $x=1.9, 2.0$ and $2.1$ using three-points formula and compare the reuslts with exact (analytic method) solution."
   ]
  },
  {
   "cell_type": "markdown",
   "metadata": {},
   "source": [
    "### 1. Analytic method"
   ]
  },
  {
   "cell_type": "code",
   "execution_count": 13,
   "metadata": {},
   "outputs": [
    {
     "name": "stdout",
     "output_type": "stream",
     "text": [
      "yprime =  x*exp(x) + exp(x)\n"
     ]
    }
   ],
   "source": [
    "# define the general function for the analytic method\n",
    "from sympy import *\n",
    "x = Symbol('x')\n",
    "z = x*exp(x)\n",
    "yprime = z.diff(x)\n",
    "print(\"yprime = \", yprime)\n",
    "f = lambdify(x, yprime, 'numpy')"
   ]
  },
  {
   "cell_type": "code",
   "execution_count": 14,
   "metadata": {},
   "outputs": [
    {
     "name": "stdout",
     "output_type": "stream",
     "text": [
      "The First Order Derivative using analytic method when (x=1.9) =  19.389093882609878\n",
      "\n",
      "The First Order Derivative using analytic method when (x=2.0) =  22.16716829679195\n",
      "\n",
      "The First Order Derivative using analytic method when (x=2.1) =  25.31512672895972\n"
     ]
    }
   ],
   "source": [
    "x0 = 1.9\n",
    "x1 = 2.0\n",
    "x2 = 2.1\n",
    "print(\"The First Order Derivative using analytic method when (x=1.9) = \", f(x0))\n",
    "print(\"\\nThe First Order Derivative using analytic method when (x=2.0) = \", f(x1))\n",
    "print(\"\\nThe First Order Derivative using analytic method when (x=2.1) = \", f(x2))\n"
   ]
  },
  {
   "cell_type": "markdown",
   "metadata": {},
   "source": [
    "### 2. Numerical method (Forward Difference FD, Central Difference CD and Backword Difference BD) \n",
    "\n",
    "When $x=1.9$, we need to use **Foward difference** becuase $1.9$ is located at the begining of the table.\n",
    "\n",
    "When $x=2.0$, we need to use **Central difference** becuase $2.0$ is located at the centre of the table.\n",
    "\n",
    "When $x=2.1$, we need to use **Backward difference** becuase $2.1$ is located at the end of the table\n"
   ]
  },
  {
   "cell_type": "code",
   "execution_count": 15,
   "metadata": {},
   "outputs": [
    {
     "name": "stdout",
     "output_type": "stream",
     "text": [
      "The First Order Derivative using numerical method (FD) for (x=1.9) =  19.269469999999984\n",
      "\n",
      "The First Order Derivative using numerical method (CD) for (x=2.0) =  22.22878999999998\n",
      "\n",
      "The First Order Derivative using numerical method (BD) for (x=2.1) =  25.188109999999973\n"
     ]
    }
   ],
   "source": [
    "h = df['x'][1] - df['x'][0] # compute h x1-x0\n",
    "print(\"The First Order Derivative using numerical method (FD) for (x=1.9) = \", (1/(2*h)) * (-3* df['F_x'][0] + 4*df['F_x'][1] - df['F_x'][2]))\n",
    "print(\"\\nThe First Order Derivative using numerical method (CD) for (x=2.0) = \", (1/(2*h)) * (df['F_x'][2] - df['F_x'][0]))\n",
    "print(\"\\nThe First Order Derivative using numerical method (BD) for (x=2.1) = \", (1/(2*h)) * (df['F_x'][0] - 4*df['F_x'][1] + 3*df['F_x'][2]))"
   ]
  },
  {
   "cell_type": "markdown",
   "metadata": {},
   "source": [
    "# Polynomial Interpolation Method"
   ]
  },
  {
   "cell_type": "markdown",
   "metadata": {},
   "source": [
    "## Lagrange Polynomial Interpolation Method"
   ]
  },
  {
   "cell_type": "markdown",
   "metadata": {},
   "source": [
    "$f(x) $ $\\approx$ $P_n(x) = \\sum\\limits_{k=0}^n L_k(x) f(x_k) $, $k=0,1,..,n$"
   ]
  },
  {
   "cell_type": "markdown",
   "metadata": {},
   "source": [
    "$f'(x) - P'_n(x) = \\frac{\\prod_{n+1}'(x)}{(n+1)!}f^{(n+1)}(\\zeta(x))  +\n",
    "\\frac{\\prod_{n+1}(x)}{(n+1)!}\\frac{d}{dx}[f^{(n+1)}(\\zeta(x))] $\n",
    "\n",
    "\n",
    "This term $\\frac{\\prod_{n+1}(x)}{(n+1)!}\\frac{d}{dx}[f^{(n+1)}(\\zeta(x))] $ cannot be compute\n",
    "\n",
    "So at the nodes points $x_0, x_1, ... , x_n$\n",
    "\n",
    "$f'(x) - P'_n(x) = \\frac{\\prod_{n+1}'(x)}{(n+1)!}f^{(n+1)}(\\zeta(x))$"
   ]
  },
  {
   "cell_type": "markdown",
   "metadata": {},
   "source": [
    "### Equally spaced points"
   ]
  },
  {
   "cell_type": "markdown",
   "metadata": {},
   "source": [
    "*** Using Lagrange Interpolation At equally spaced points we will end up using the same formulas that have been driven using Taylor series method and method of undetermined coefficients ***"
   ]
  },
  {
   "cell_type": "markdown",
   "metadata": {},
   "source": [
    "#### Example\n",
    "\n",
    "***Approximate $f'$ at $ 2.0$ using Polynomial Interpolation Method and compare the results with previous example using three-points formula***"
   ]
  },
  {
   "cell_type": "code",
   "execution_count": 16,
   "metadata": {},
   "outputs": [],
   "source": [
    "df = pd.read_csv(\"data/3points.csv\")"
   ]
  },
  {
   "cell_type": "code",
   "execution_count": 17,
   "metadata": {},
   "outputs": [
    {
     "data": {
      "text/html": [
       "<div>\n",
       "<style scoped>\n",
       "    .dataframe tbody tr th:only-of-type {\n",
       "        vertical-align: middle;\n",
       "    }\n",
       "\n",
       "    .dataframe tbody tr th {\n",
       "        vertical-align: top;\n",
       "    }\n",
       "\n",
       "    .dataframe thead th {\n",
       "        text-align: right;\n",
       "    }\n",
       "</style>\n",
       "<table border=\"1\" class=\"dataframe\">\n",
       "  <thead>\n",
       "    <tr style=\"text-align: right;\">\n",
       "      <th></th>\n",
       "      <th>x</th>\n",
       "      <th>F_x</th>\n",
       "    </tr>\n",
       "  </thead>\n",
       "  <tbody>\n",
       "    <tr>\n",
       "      <th>0</th>\n",
       "      <td>1.9</td>\n",
       "      <td>12.703199</td>\n",
       "    </tr>\n",
       "    <tr>\n",
       "      <th>1</th>\n",
       "      <td>2.0</td>\n",
       "      <td>14.778112</td>\n",
       "    </tr>\n",
       "    <tr>\n",
       "      <th>2</th>\n",
       "      <td>2.1</td>\n",
       "      <td>17.148957</td>\n",
       "    </tr>\n",
       "  </tbody>\n",
       "</table>\n",
       "</div>"
      ],
      "text/plain": [
       "     x        F_x\n",
       "0  1.9  12.703199\n",
       "1  2.0  14.778112\n",
       "2  2.1  17.148957"
      ]
     },
     "execution_count": 17,
     "metadata": {},
     "output_type": "execute_result"
    }
   ],
   "source": [
    "df"
   ]
  },
  {
   "cell_type": "markdown",
   "metadata": {},
   "source": [
    "$L_0(x) = \\frac{(x-x_1)(x-x_2)}{(x_0-x_1)(x_0-x_2)}$ ==> $L'_0(x) = \\frac{2x-x_1-x_2}{(x_0-x_1)(x_0-x_2)}$\n",
    "\n",
    "$L_0(x) = \\frac{(x-x_0)(x-x_2)}{(x_1-x_0)(x_1-x_2)}$ ==> $L'_0(x) = \\frac{2x-x_0-x_2}{(x_1-x_0)(x_1-x_2)}$\n",
    "\n",
    "\n",
    "$L_0(x) = \\frac{(x-x_0)(x-x_2)}{(x_2-x_0)(x_2-x_1)}$ ==> $L'_0(x) = \\frac{2x-x_0-x_1}{(x_2-x_0)(x_2-x_1)}$\n",
    "\n",
    "$f'(x) = L'_0(x)f(x_0) + L'_1(x)f(x_1) +L'_2(x)f(x_2) $"
   ]
  },
  {
   "cell_type": "code",
   "execution_count": 18,
   "metadata": {},
   "outputs": [
    {
     "name": "stdout",
     "output_type": "stream",
     "text": [
      "\n",
      "The First Order Derivative using Polynomial Interpolation Method for (x=2.0) =  22.228789999999982\n"
     ]
    }
   ],
   "source": [
    "x=2.0\n",
    "L0 = ((2*x)-df[\"x\"][1]-df[\"x\"][2])/((df[\"x\"][0]-df[\"x\"][1])*(df[\"x\"][0]-df[\"x\"][2]))\n",
    "L1 = ((2*x)-df[\"x\"][0]-df[\"x\"][2])/((df[\"x\"][1]-df[\"x\"][0])*(df[\"x\"][1]-df[\"x\"][2]))\n",
    "L2 = ((2*x)-df[\"x\"][0]-df[\"x\"][1])/((df[\"x\"][2]-df[\"x\"][0])*(df[\"x\"][2]-df[\"x\"][1]))\n",
    "Fprime = L0*df[\"F_x\"][0] + L1*df[\"F_x\"][1] + L2*df[\"F_x\"][2]\n",
    "print(\"\\nThe First Order Derivative using Polynomial Interpolation Method for (x=2.0) = \",Fprime)"
   ]
  },
  {
   "cell_type": "markdown",
   "metadata": {},
   "source": [
    "_**The result is exactly the same of one that obtained by using the First Order Derivative using numerical method (CD) for (x=2.0) in previous example**_"
   ]
  },
  {
   "cell_type": "markdown",
   "metadata": {},
   "source": [
    "### Not Equally spaced points"
   ]
  },
  {
   "cell_type": "markdown",
   "metadata": {},
   "source": [
    "*** One of the advantage of Using Lagrange Interpolation when unequally spaced points (some random points over the interval). So as in the previous example first will construct a polynomial then differentiate it. ***"
   ]
  },
  {
   "cell_type": "markdown",
   "metadata": {},
   "source": [
    "## Divided Difference Formula method"
   ]
  },
  {
   "cell_type": "markdown",
   "metadata": {},
   "source": [
    "_This method can be used equally or unequally spaced. In addition, it can be used with given nodes points or points in between_"
   ]
  },
  {
   "cell_type": "markdown",
   "metadata": {},
   "source": [
    "![](images/df.gif)\n"
   ]
  },
  {
   "cell_type": "markdown",
   "metadata": {},
   "source": [
    "The Divided Difference Formula for 6 points is given by:\n",
    "\n",
    "$$f(x) \\approx P_5(x) = f[x_0] + f[x_0,x_1](x-x_0) + f[x_0,x_1,x_2](x-x_0)(x-x_1) + f[x_0,x_1,x_2,x_3](x-x_0)(x-x_1)(x-x_2)+f[x_0,x_1,x_2,x_3,x_4](x-x_0)(x-x_1)(x-x_2)(x-x_4)+f[x_0,x_1,x_2,x_3,x_4,x_5](x-x_0)(x-x_1)(x-x_2)(x-x_4)(x-x_5)$$\n",
    "\n",
    "Then we need to find $f'(x)$ which is $P^{'}_5(x)$"
   ]
  },
  {
   "cell_type": "markdown",
   "metadata": {},
   "source": [
    "### Example:-\n",
    "\n",
    "_Find $f'(0.25)$ from the table using DD formula_"
   ]
  },
  {
   "cell_type": "code",
   "execution_count": 19,
   "metadata": {},
   "outputs": [
    {
     "data": {
      "text/html": [
       "<div>\n",
       "<style scoped>\n",
       "    .dataframe tbody tr th:only-of-type {\n",
       "        vertical-align: middle;\n",
       "    }\n",
       "\n",
       "    .dataframe tbody tr th {\n",
       "        vertical-align: top;\n",
       "    }\n",
       "\n",
       "    .dataframe thead th {\n",
       "        text-align: right;\n",
       "    }\n",
       "</style>\n",
       "<table border=\"1\" class=\"dataframe\">\n",
       "  <thead>\n",
       "    <tr style=\"text-align: right;\">\n",
       "      <th></th>\n",
       "      <th>x</th>\n",
       "      <th>F(x)</th>\n",
       "    </tr>\n",
       "  </thead>\n",
       "  <tbody>\n",
       "    <tr>\n",
       "      <th>0</th>\n",
       "      <td>0.15</td>\n",
       "      <td>0.1761</td>\n",
       "    </tr>\n",
       "    <tr>\n",
       "      <th>1</th>\n",
       "      <td>0.21</td>\n",
       "      <td>0.3222</td>\n",
       "    </tr>\n",
       "    <tr>\n",
       "      <th>2</th>\n",
       "      <td>0.23</td>\n",
       "      <td>0.3617</td>\n",
       "    </tr>\n",
       "    <tr>\n",
       "      <th>3</th>\n",
       "      <td>0.27</td>\n",
       "      <td>0.4314</td>\n",
       "    </tr>\n",
       "  </tbody>\n",
       "</table>\n",
       "</div>"
      ],
      "text/plain": [
       "      x    F(x)\n",
       "0  0.15  0.1761\n",
       "1  0.21  0.3222\n",
       "2  0.23  0.3617\n",
       "3  0.27  0.4314"
      ]
     },
     "execution_count": 19,
     "metadata": {},
     "output_type": "execute_result"
    }
   ],
   "source": [
    "df = pd.read_csv(\"data/dd.csv\")\n",
    "df"
   ]
  },
  {
   "cell_type": "code",
   "execution_count": 20,
   "metadata": {},
   "outputs": [
    {
     "name": "stdout",
     "output_type": "stream",
     "text": [
      "The coefficient of the interpolating polynomial : \n",
      " [ 0.1761  2.435  -5.75   15.625 ]\n"
     ]
    },
    {
     "data": {
      "text/plain": [
       "0.39785000000000004"
      ]
     },
     "execution_count": 20,
     "metadata": {},
     "output_type": "execute_result"
    }
   ],
   "source": [
    "def coef(x, y):\n",
    "    '''x : array of data points\n",
    "       y : array of f(x)  '''\n",
    "    n = len(x)\n",
    "    a = []\n",
    "    for i in range(n):\n",
    "        a.append(y[i])\n",
    "    for j in range(1, n):\n",
    "        for i in range(n-1, j-1, -1):\n",
    "            a[i] = float(a[i]-a[i-1])/float(x[i]-x[i-j])\n",
    "    return np.array(a) # return an array of coefficient\n",
    "\n",
    "x = np.array(df[\"x\"])\n",
    "y = np.array(df[\"F(x)\"])\n",
    "a = coef(x, y)\n",
    "print(\"The coefficient of the interpolating polynomial : \\n\",a)\n",
    "def Eval(a, x, r):\n",
    "    n = len( a ) - 1\n",
    "    temp = a[n]\n",
    "    for i in range( n - 1, -1, -1 ):\n",
    "        temp = temp * ( r - x[i] ) + a[i]\n",
    "    return temp # return the y_value interpolation\n",
    "\n",
    "Eval(a,x,0.25)"
   ]
  },
  {
   "cell_type": "markdown",
   "metadata": {},
   "source": [
    "_Finish the code to compute the derivative_"
   ]
  },
  {
   "cell_type": "markdown",
   "metadata": {},
   "source": [
    "# Operator Method"
   ]
  },
  {
   "cell_type": "markdown",
   "metadata": {},
   "source": [
    "Forward and backward methods with equally spaced points"
   ]
  },
  {
   "cell_type": "markdown",
   "metadata": {},
   "source": [
    "![](images/OD.jpg)\n"
   ]
  },
  {
   "cell_type": "markdown",
   "metadata": {},
   "source": [
    "## First Order Derivative\n",
    "### Forward Interpolation Operator\n",
    "\n",
    "$D$ is the operator (First Derivative)\n",
    "\n",
    "$$ D = \\frac{1}{h}[\\Delta-\\Delta^2/2+\\Delta^3/3+...] $$\n",
    "\n",
    "### Backword  Interpolation Operator\n",
    "\n",
    "$$ D = \\frac{1}{h}[\\nabla+\\nabla^2/2+\\nabla^3/3+...] $$\n",
    "\n",
    "## Second Order Derivative\n",
    "### Forward Interpolation Operator\n",
    "\n",
    "$D^2$ is the operator on itself ($D$ on $D$) (Second Derivative)\n",
    "\n",
    "$$ D^2 = \\frac{1}{h^2}[\\Delta^2-\\Delta^3+\\frac{11}{12}\\Delta^4-\\frac{5}{6}\\Delta^5+...] $$\n",
    "\n",
    "### Backword  Interpolation Operator\n",
    "\n",
    "$$ D^2 = \\frac{1}{h^2}[\\Delta^2+\\Delta^3+\\frac{11}{12}\\Delta^4+\\frac{5}{6}\\Delta^5+...] $$"
   ]
  },
  {
   "cell_type": "markdown",
   "metadata": {},
   "source": [
    "# Summary\n",
    "\n",
    "For equally spaced  $h = x_{i+1}-x_i$ between points, we can use the following formulas. Otherwise, we need to use one of the polynomial interpolation methods "
   ]
  },
  {
   "cell_type": "markdown",
   "metadata": {},
   "source": [
    "![](images/first.png)\n",
    "![](images/second.png)\n",
    "![](images/third.png)\n",
    "![](images/forth.png)"
   ]
  }
 ],
 "metadata": {
  "celltoolbar": "Slideshow",
  "kernelspec": {
   "display_name": "Python 3",
   "language": "python",
   "name": "python3"
  },
  "language_info": {
   "codemirror_mode": {
    "name": "ipython",
    "version": 3
   },
   "file_extension": ".py",
   "mimetype": "text/x-python",
   "name": "python",
   "nbconvert_exporter": "python",
   "pygments_lexer": "ipython3",
   "version": "3.6.0"
  }
 },
 "nbformat": 4,
 "nbformat_minor": 2
}
