{
 "cells": [
  {
   "cell_type": "markdown",
   "metadata": {
    "slideshow": {
     "slide_type": "slide"
    }
   },
   "source": [
    "![](images/salem.png)"
   ]
  },
  {
   "cell_type": "markdown",
   "metadata": {
    "slideshow": {
     "slide_type": "slide"
    }
   },
   "source": [
    "__Learning objectives:__\n",
    "\n",
    "* Learn about finite difference approximations to derivatives.\n",
    "* Be able to implement forward and central difference methods.\n",
    "* Calculate higher-order derivatives."
   ]
  },
  {
   "cell_type": "markdown",
   "metadata": {},
   "source": [
    "__Table of Contents__\n",
    "\n",
    "1. Taylor Series Method\n",
    "2. Method Of Undetermined Coefficients\n",
    "3. Polynomial Interpolation Method\n",
    "4. Operator Method"
   ]
  },
  {
   "cell_type": "markdown",
   "metadata": {},
   "source": [
    "# Taylor Series Method"
   ]
  },
  {
   "cell_type": "markdown",
   "metadata": {},
   "source": [
    "We can use a [Taylor series expansion](http://mathworld.wolfram.com/TaylorSeries.html) to estimate the accuracy of the method. Recall that Taylor series in one dimention tells us that we can expand an increment to the evaluation point of a function as follows:\n",
    "\n",
    "\\begin{align*}\n",
    "f(x_0+h)&=f(x_0)+hf'(x_0)+ \\frac{h^2}{2!}f''(x_0) + \\frac{h^3}{3!}f'''(x_0) + \\ldots\\\\ & =f(x_0)+hf'(x_0)+O(h^2)\n",
    "\\end{align*}\n",
    " \n",
    "where $O(h^2)$ represents the collection of terms that are second-order in $h$ or higher."
   ]
  },
  {
   "cell_type": "markdown",
   "metadata": {},
   "source": [
    "If we rearrange this expression to isolate the gradient term $f'(x_0)$ on the left hand side, we find:\n",
    "\n",
    " $$ hf'(x_0)=f(x_0+h)-f(x_0) +O(h^2) $$\n",
    " \n",
    "and therefore, by dividing through by $h$,\n",
    " \n",
    " $$ f'(x_0)=\\frac{f(x_0+h)-f(x_0)}{h}+O(h) $$\n",
    "\n",
    "As we are left with $O(h)$ at the end, we know that the forward difference method is first-order (i.e. $h^1$) -- as we make the spacing $h$ smaller we expect the error in our derivative to fall linearly."
   ]
  },
  {
   "cell_type": "markdown",
   "metadata": {},
   "source": [
    "For general numerical methods we generally strive for something better than this -- if we halve our $h$ (and so are doing twice as much (or more) work potentially) we would like our error to drop super-linearly: i.e. by a factor of 4 (second-order method) or 8 (third-order method) or more."
   ]
  },
  {
   "cell_type": "markdown",
   "metadata": {},
   "source": [
    "## First Order Derivative"
   ]
  },
  {
   "cell_type": "markdown",
   "metadata": {},
   "source": [
    "![](images/Finite_difference_method.svg)"
   ]
  },
  {
   "cell_type": "markdown",
   "metadata": {},
   "source": [
    "![](images/2.gif)"
   ]
  },
  {
   "cell_type": "markdown",
   "metadata": {},
   "source": [
    "### Forward Difference"
   ]
  },
  {
   "cell_type": "markdown",
   "metadata": {
    "slideshow": {
     "slide_type": "slide"
    }
   },
   "source": [
    "Forward Difference (Finite differences) are a class of approximation methods for estimating/computing derivatives of functions.\n",
    "\n",
    "Approximations to the derivatives of a function can be computed by using weighted sums of function evaluations at a number of points. The elementary definition of the derivative of a function $f$ at a point $x_0$ is given by:\n",
    "\n",
    " $$ f'(x_0)=\\lim_{h\\rightarrow 0} \\frac{f(x_0+h)-f(x_0)}{h} $$"
   ]
  },
  {
   "cell_type": "markdown",
   "metadata": {
    "slideshow": {
     "slide_type": "subslide"
    }
   },
   "source": [
    "We can turn this into an approximation rule for $f'(x)$ by replacing the limit as $h$ approaches $0$ with a small but finite $h$:\n",
    "\n",
    " $$ f'(x_0)\\approx \\frac{f(x_0+h)-f(x)}{h},\\qquad h>0 $$\n",
    "\n",
    "The figure below illustrates this approximation. Because the approximate gradient is calculated using values of $x$ greater than $x_0$, this algorithm is known as the **forward difference method**. In the figure the derivative is approximated by the slope of the red line, while the true derivative is the slope of the blue line -- if the second (and/or higher) derivative of the function is large then this approximation might not be very good unless you make $h$ very small."
   ]
  },
  {
   "cell_type": "markdown",
   "metadata": {
    "slideshow": {
     "slide_type": "subslide"
    }
   },
   "source": [
    "![Forward difference method for approximating $$ f'(x_0) $$. The derivative is approximated by the slope of the red line, while the true derivative is the slope of the blue line.](images/forward_diff.png)"
   ]
  },
  {
   "cell_type": "markdown",
   "metadata": {},
   "source": [
    "$$f(x+h) = f(x) + hf'(x) + \\frac{h^2}{2!}f''(\\zeta(x))$$\n",
    "\n",
    "$$f'(x)= \\frac{f(x+h)-f(x)}{h} - \\frac{h}{2}f''(\\zeta(x))$$\n"
   ]
  },
  {
   "cell_type": "markdown",
   "metadata": {
    "slideshow": {
     "slide_type": "slide"
    }
   },
   "source": [
    "## Central Difference\n",
    "\n",
    "In an attempt to derive a more accurate method, we use two Taylor series expansions; one in the positive $x$ direction from $x_0$, and one in the negative direction. Because we hope to achieve better than first order, we include an extra term in the series:\n",
    "\n",
    "$$ f(x_0+h)=f(x_0)+hf'(x_0)+\\frac{h^2}{2}f''(x_0) + O(h^3),$$\n",
    "\n",
    "$$ f(x_0-h)=f(x_0)-hf'(x_0)+\\frac{(-h)^2}{2}f''(x_0) + O((-h)^3).$$"
   ]
  },
  {
   "cell_type": "markdown",
   "metadata": {
    "slideshow": {
     "slide_type": "subslide"
    }
   },
   "source": [
    "Using the fact that $(-h)^2=h^2$ and the absolute value signs from the definition of $O$, this is equivalent to:\n",
    "\n",
    "$$ f(x_0+h)=f(x_0)+hf'(x_0)+\\frac{h^2}{2}f''(x_0) + O(h^3),$$\n",
    "  \n",
    "$$ f(x_0-h)=f(x_0)-hf'(x_0)+\\frac{h^2}{2}f''(x_0) + O(h^3).$$"
   ]
  },
  {
   "cell_type": "markdown",
   "metadata": {
    "slideshow": {
     "slide_type": "subslide"
    }
   },
   "source": [
    "Remember that we are looking for an expression for $f'(x_0)$. Noticing the sign change between the derivative terms in the two equations, we subtract the bottom equation from the top equation to give:\n",
    "\n",
    "$$ f(x_0+h)-f(x_0-h)=2hf'(x_0) + O(h^3).$$\n",
    "\n",
    "Finally, rearrange to get an expression for $f'(x_0)$:\n",
    "\n",
    "$$ f'(x_0)=\\frac{f(x_0+h)-f(x_0-h)}{2h} + O(h^2).$$"
   ]
  },
  {
   "cell_type": "markdown",
   "metadata": {
    "slideshow": {
     "slide_type": "subslide"
    }
   },
   "source": [
    "We can see that by taking an interval symmetric about $x_0$, we have created a second-order approximation for the derivative of $f$. This symmetry gives the scheme its name: the central difference method. The figure below illustrates this scheme. The derivative is approximated by the slope of the red line, while the true derivative is the slope of the blue line.  \n",
    "\n",
    "Even without the analysis above it's hopefully clear visually why this should in general give a lower error than the forward difference approach. However the analysis of the two methods does tell us that as we halve $h$ the error should drop by a factor 4 rather than the 2 we get for the first-order forward differencing."
   ]
  },
  {
   "cell_type": "markdown",
   "metadata": {},
   "source": [
    "![](images/central_diff.png)"
   ]
  },
  {
   "cell_type": "markdown",
   "metadata": {},
   "source": [
    "$$f(x+h) = f(x) + hf'(x) + \\frac{h^2}{2!}f''(\\zeta(x))$$\n",
    "$$f(x-h) = f(x) - hf'(x) + \\frac{h^2}{2!}f''(\\zeta(x))$$\n",
    "\n",
    "$$f'(x)= \\frac{f(x+h)-f(x-h)}{2h} - \\frac{h^2}{6}f'''(\\zeta(x))$$"
   ]
  },
  {
   "cell_type": "markdown",
   "metadata": {},
   "source": [
    "### Forward Difference"
   ]
  },
  {
   "cell_type": "markdown",
   "metadata": {},
   "source": [
    "$$f(x-h) = f(x) - hf'(x) + \\frac{h^2}{2!}f''(\\zeta(x))$$\n",
    "\n",
    "$$f'(x)= \\frac{f(x)-f(x+h)}{h} + \\frac{h}{2}f''(\\zeta(x))$$\n"
   ]
  },
  {
   "cell_type": "markdown",
   "metadata": {},
   "source": [
    "## Second Order Derivative"
   ]
  },
  {
   "cell_type": "markdown",
   "metadata": {},
   "source": [
    "![](images/second.jpg)"
   ]
  },
  {
   "cell_type": "markdown",
   "metadata": {},
   "source": [
    "$$f(x+h) = f(x) + hf'(x) + \\frac{h^2}{2!}f^{(2)}(x) + \\frac{h^3}{3!}f^{(3)}(x) + \\frac{h^4}{4!}f^{(4)}(\\zeta(x))$$\n",
    "$$f(x-h) = f(x) - hf'(x) + \\frac{h^2}{2!}f^{(2)}(x) - \\frac{h^3}{3!}f^{(3)}(x) + \\frac{h^4}{4!}f^{(4)}(\\zeta(x))$$\n",
    "\n",
    "$$f''(x)= \\frac{f(x+h)-2f(x)+f(x-h)}{h^2} - \\frac{h^2}{24}f^{(4)}(\\zeta(x))$$"
   ]
  },
  {
   "cell_type": "markdown",
   "metadata": {
    "slideshow": {
     "slide_type": "slide"
    }
   },
   "source": [
    "### Example: \n",
    "*** Compute the first and second derivative (analytical and numerical) of $f(x) = e^x\\sin(x)$ ***"
   ]
  },
  {
   "cell_type": "markdown",
   "metadata": {},
   "source": [
    "#### First Order Derivative :-"
   ]
  },
  {
   "cell_type": "markdown",
   "metadata": {},
   "source": [
    "##### How to find the analytical answer with Python"
   ]
  },
  {
   "cell_type": "code",
   "execution_count": 1,
   "metadata": {},
   "outputs": [],
   "source": [
    "# point of interset, Compute derivative at x = x0\n",
    "x0 = 1.9"
   ]
  },
  {
   "cell_type": "markdown",
   "metadata": {},
   "source": [
    "__*1. Using Automatic Derivatives*__\n",
    "\n",
    "Tensorflow (tensorflow eager), Theano or Pytorch are best algorithms to compute the derivative using Automatic Derivatives method. In this section we will show how use Pytorch to find the derivative (gradient for the function)."
   ]
  },
  {
   "cell_type": "code",
   "execution_count": 2,
   "metadata": {},
   "outputs": [
    {
     "name": "stdout",
     "output_type": "stream",
     "text": [
      "real_value =  4.1653824\n"
     ]
    }
   ],
   "source": [
    "import torch\n",
    "import numpy as np\n",
    "x = torch.autograd.Variable(torch.Tensor([x0]),requires_grad=True)\n",
    "y = torch.exp(x) * torch.sin(x)\n",
    "y.backward()\n",
    "real_value = np.array(x.grad)[0]\n",
    "print(\"real_value = \", real_value)"
   ]
  },
  {
   "cell_type": "markdown",
   "metadata": {},
   "source": [
    "__*2. Using Symbolic Differentiation*__\n",
    "\n",
    "Symbolic methods are getting quite robust these days. SymPy is an excellent project for this that integrates well with NumPy. "
   ]
  },
  {
   "cell_type": "code",
   "execution_count": 3,
   "metadata": {},
   "outputs": [
    {
     "name": "stdout",
     "output_type": "stream",
     "text": [
      "yprime =  exp(x)*sin(x) + exp(x)*cos(x)\n"
     ]
    }
   ],
   "source": [
    "from sympy import *\n",
    "x = Symbol('x')\n",
    "z = exp(x)*sin(x)\n",
    "yprime = z.diff(x)\n",
    "print(\"yprime = \", yprime)\n",
    "f = lambdify(x, yprime, 'numpy')"
   ]
  },
  {
   "cell_type": "code",
   "execution_count": 4,
   "metadata": {},
   "outputs": [
    {
     "name": "stdout",
     "output_type": "stream",
     "text": [
      "real_value =  4.1653825786581\n"
     ]
    }
   ],
   "source": [
    "real_value = f(x0)\n",
    "print(\"real_value = \", real_value)"
   ]
  },
  {
   "cell_type": "markdown",
   "metadata": {},
   "source": [
    "##### How to find the numerical answer with Python"
   ]
  },
  {
   "cell_type": "markdown",
   "metadata": {},
   "source": [
    "#### Finite Differences"
   ]
  },
  {
   "cell_type": "markdown",
   "metadata": {},
   "source": [
    "##### 1. Forward Difference\n",
    "\n",
    "$f'(x)= \\frac{f(x+h)-f(x)}{h} - \\frac{h}{2}f''(\\zeta(x))$"
   ]
  },
  {
   "cell_type": "code",
   "execution_count": 5,
   "metadata": {},
   "outputs": [
    {
     "data": {
      "text/html": [
       "<div>\n",
       "<style scoped>\n",
       "    .dataframe tbody tr th:only-of-type {\n",
       "        vertical-align: middle;\n",
       "    }\n",
       "\n",
       "    .dataframe tbody tr th {\n",
       "        vertical-align: top;\n",
       "    }\n",
       "\n",
       "    .dataframe thead th {\n",
       "        text-align: right;\n",
       "    }\n",
       "</style>\n",
       "<table border=\"1\" class=\"dataframe\">\n",
       "  <thead>\n",
       "    <tr style=\"text-align: right;\">\n",
       "      <th></th>\n",
       "      <th>1_h</th>\n",
       "      <th>2_dfdx</th>\n",
       "      <th>3_Actual Abs. Err.</th>\n",
       "      <th>4_Actual Relative Err.</th>\n",
       "    </tr>\n",
       "  </thead>\n",
       "  <tbody>\n",
       "    <tr>\n",
       "      <th>0</th>\n",
       "      <td>0.050000</td>\n",
       "      <td>4.050102</td>\n",
       "      <td>0.115280</td>\n",
       "      <td>2.767580</td>\n",
       "    </tr>\n",
       "    <tr>\n",
       "      <th>1</th>\n",
       "      <td>0.025000</td>\n",
       "      <td>4.109561</td>\n",
       "      <td>0.055822</td>\n",
       "      <td>1.340139</td>\n",
       "    </tr>\n",
       "    <tr>\n",
       "      <th>2</th>\n",
       "      <td>0.012500</td>\n",
       "      <td>4.137920</td>\n",
       "      <td>0.027463</td>\n",
       "      <td>0.659307</td>\n",
       "    </tr>\n",
       "    <tr>\n",
       "      <th>3</th>\n",
       "      <td>0.006250</td>\n",
       "      <td>4.151763</td>\n",
       "      <td>0.013620</td>\n",
       "      <td>0.326982</td>\n",
       "    </tr>\n",
       "    <tr>\n",
       "      <th>4</th>\n",
       "      <td>0.003125</td>\n",
       "      <td>4.158600</td>\n",
       "      <td>0.006782</td>\n",
       "      <td>0.162825</td>\n",
       "    </tr>\n",
       "    <tr>\n",
       "      <th>5</th>\n",
       "      <td>0.001563</td>\n",
       "      <td>4.161998</td>\n",
       "      <td>0.003384</td>\n",
       "      <td>0.081246</td>\n",
       "    </tr>\n",
       "    <tr>\n",
       "      <th>6</th>\n",
       "      <td>0.000781</td>\n",
       "      <td>4.163692</td>\n",
       "      <td>0.001690</td>\n",
       "      <td>0.040582</td>\n",
       "    </tr>\n",
       "    <tr>\n",
       "      <th>7</th>\n",
       "      <td>0.000391</td>\n",
       "      <td>4.164538</td>\n",
       "      <td>0.000845</td>\n",
       "      <td>0.020280</td>\n",
       "    </tr>\n",
       "    <tr>\n",
       "      <th>8</th>\n",
       "      <td>0.000195</td>\n",
       "      <td>4.164960</td>\n",
       "      <td>0.000422</td>\n",
       "      <td>0.010138</td>\n",
       "    </tr>\n",
       "  </tbody>\n",
       "</table>\n",
       "</div>"
      ],
      "text/plain": [
       "        1_h    2_dfdx  3_Actual Abs. Err.  4_Actual Relative Err.\n",
       "0  0.050000  4.050102            0.115280                2.767580\n",
       "1  0.025000  4.109561            0.055822                1.340139\n",
       "2  0.012500  4.137920            0.027463                0.659307\n",
       "3  0.006250  4.151763            0.013620                0.326982\n",
       "4  0.003125  4.158600            0.006782                0.162825\n",
       "5  0.001563  4.161998            0.003384                0.081246\n",
       "6  0.000781  4.163692            0.001690                0.040582\n",
       "7  0.000391  4.164538            0.000845                0.020280\n",
       "8  0.000195  4.164960            0.000422                0.010138"
      ]
     },
     "execution_count": 5,
     "metadata": {},
     "output_type": "execute_result"
    }
   ],
   "source": [
    "NoOfItration = 9\n",
    "import pandas as pd\n",
    "h = np.zeros(9)\n",
    "x = np.zeros(9)+x0\n",
    "for i in range(NoOfItration):\n",
    "    h[i] = 0.05/2**i\n",
    "xplus=x+h\n",
    "f=np.exp(x)*np.sin(x)\n",
    "fplus=np.exp(xplus)*np.sin(xplus)\n",
    "num=fplus-f\n",
    "deriv=num/h\n",
    "df = pd.DataFrame(\n",
    "    {'1_h':h,\n",
    "     '2_dfdx': deriv,\n",
    "     '3_Actual Abs. Err.': np.abs(real_value-deriv),\n",
    "     '4_Actual Relative Err.': np.abs((real_value-deriv)/real_value*100)\n",
    "    })\n",
    "df"
   ]
  },
  {
   "cell_type": "markdown",
   "metadata": {},
   "source": [
    "##### 2. Backward Difference\n",
    "\n",
    "\n",
    "$f'(x)= \\frac{f(x)-f(x+h)}{h} + \\frac{h}{2}f''(\\zeta(x))$"
   ]
  },
  {
   "cell_type": "code",
   "execution_count": 6,
   "metadata": {},
   "outputs": [
    {
     "data": {
      "text/html": [
       "<div>\n",
       "<style scoped>\n",
       "    .dataframe tbody tr th:only-of-type {\n",
       "        vertical-align: middle;\n",
       "    }\n",
       "\n",
       "    .dataframe tbody tr th {\n",
       "        vertical-align: top;\n",
       "    }\n",
       "\n",
       "    .dataframe thead th {\n",
       "        text-align: right;\n",
       "    }\n",
       "</style>\n",
       "<table border=\"1\" class=\"dataframe\">\n",
       "  <thead>\n",
       "    <tr style=\"text-align: right;\">\n",
       "      <th></th>\n",
       "      <th>1_h</th>\n",
       "      <th>2_dfdx</th>\n",
       "      <th>3_Actual Abs. Err.</th>\n",
       "      <th>4_Actual Relative Err.</th>\n",
       "    </tr>\n",
       "  </thead>\n",
       "  <tbody>\n",
       "    <tr>\n",
       "      <th>0</th>\n",
       "      <td>0.050000</td>\n",
       "      <td>4.266514</td>\n",
       "      <td>0.101131</td>\n",
       "      <td>2.427900</td>\n",
       "    </tr>\n",
       "    <tr>\n",
       "      <th>1</th>\n",
       "      <td>0.025000</td>\n",
       "      <td>4.217668</td>\n",
       "      <td>0.052285</td>\n",
       "      <td>1.255227</td>\n",
       "    </tr>\n",
       "    <tr>\n",
       "      <th>2</th>\n",
       "      <td>0.012500</td>\n",
       "      <td>4.191961</td>\n",
       "      <td>0.026578</td>\n",
       "      <td>0.638080</td>\n",
       "    </tr>\n",
       "    <tr>\n",
       "      <th>3</th>\n",
       "      <td>0.006250</td>\n",
       "      <td>4.178782</td>\n",
       "      <td>0.013399</td>\n",
       "      <td>0.321675</td>\n",
       "    </tr>\n",
       "    <tr>\n",
       "      <th>4</th>\n",
       "      <td>0.003125</td>\n",
       "      <td>4.172110</td>\n",
       "      <td>0.006727</td>\n",
       "      <td>0.161498</td>\n",
       "    </tr>\n",
       "    <tr>\n",
       "      <th>5</th>\n",
       "      <td>0.001563</td>\n",
       "      <td>4.168753</td>\n",
       "      <td>0.003370</td>\n",
       "      <td>0.080915</td>\n",
       "    </tr>\n",
       "    <tr>\n",
       "      <th>6</th>\n",
       "      <td>0.000781</td>\n",
       "      <td>4.167070</td>\n",
       "      <td>0.001687</td>\n",
       "      <td>0.040499</td>\n",
       "    </tr>\n",
       "    <tr>\n",
       "      <th>7</th>\n",
       "      <td>0.000391</td>\n",
       "      <td>4.166226</td>\n",
       "      <td>0.000844</td>\n",
       "      <td>0.020260</td>\n",
       "    </tr>\n",
       "    <tr>\n",
       "      <th>8</th>\n",
       "      <td>0.000195</td>\n",
       "      <td>4.165805</td>\n",
       "      <td>0.000422</td>\n",
       "      <td>0.010132</td>\n",
       "    </tr>\n",
       "  </tbody>\n",
       "</table>\n",
       "</div>"
      ],
      "text/plain": [
       "        1_h    2_dfdx  3_Actual Abs. Err.  4_Actual Relative Err.\n",
       "0  0.050000  4.266514            0.101131                2.427900\n",
       "1  0.025000  4.217668            0.052285                1.255227\n",
       "2  0.012500  4.191961            0.026578                0.638080\n",
       "3  0.006250  4.178782            0.013399                0.321675\n",
       "4  0.003125  4.172110            0.006727                0.161498\n",
       "5  0.001563  4.168753            0.003370                0.080915\n",
       "6  0.000781  4.167070            0.001687                0.040499\n",
       "7  0.000391  4.166226            0.000844                0.020260\n",
       "8  0.000195  4.165805            0.000422                0.010132"
      ]
     },
     "execution_count": 6,
     "metadata": {},
     "output_type": "execute_result"
    }
   ],
   "source": [
    "h = np.zeros(9)\n",
    "x = np.zeros(9)+x0\n",
    "for i in range(NoOfItration):\n",
    "    h[i] = 0.05/2**i\n",
    "xmines=x-h\n",
    "f=np.exp(x)*np.sin(x)\n",
    "fmins=np.exp(xmines)*np.sin(xmines)\n",
    "num=f - fmins\n",
    "deriv=num/h\n",
    "dfmins = pd.DataFrame(\n",
    "    {'1_h':h,\n",
    "     '2_dfdx': deriv,\n",
    "     '3_Actual Abs. Err.': np.abs(real_value-deriv),\n",
    "     '4_Actual Relative Err.': np.abs((real_value-deriv)/real_value*100)\n",
    "    })\n",
    "dfmins"
   ]
  },
  {
   "cell_type": "markdown",
   "metadata": {},
   "source": [
    "##### 3. Central Difference\n",
    "\n",
    "\n",
    "$f'(x)= \\frac{f(x+h)-f(x-h)}{2h} - \\frac{h^2}{6}f'''(\\zeta(x))$"
   ]
  },
  {
   "cell_type": "code",
   "execution_count": 7,
   "metadata": {},
   "outputs": [
    {
     "data": {
      "text/html": [
       "<div>\n",
       "<style scoped>\n",
       "    .dataframe tbody tr th:only-of-type {\n",
       "        vertical-align: middle;\n",
       "    }\n",
       "\n",
       "    .dataframe tbody tr th {\n",
       "        vertical-align: top;\n",
       "    }\n",
       "\n",
       "    .dataframe thead th {\n",
       "        text-align: right;\n",
       "    }\n",
       "</style>\n",
       "<table border=\"1\" class=\"dataframe\">\n",
       "  <thead>\n",
       "    <tr style=\"text-align: right;\">\n",
       "      <th></th>\n",
       "      <th>1_h</th>\n",
       "      <th>2_dfdx</th>\n",
       "      <th>3_Actual Abs. Err.</th>\n",
       "      <th>4_Actual Relative Err.</th>\n",
       "    </tr>\n",
       "  </thead>\n",
       "  <tbody>\n",
       "    <tr>\n",
       "      <th>0</th>\n",
       "      <td>0.050000</td>\n",
       "      <td>4.158308</td>\n",
       "      <td>7.074486e-03</td>\n",
       "      <td>0.169840</td>\n",
       "    </tr>\n",
       "    <tr>\n",
       "      <th>1</th>\n",
       "      <td>0.025000</td>\n",
       "      <td>4.163614</td>\n",
       "      <td>1.768459e-03</td>\n",
       "      <td>0.042456</td>\n",
       "    </tr>\n",
       "    <tr>\n",
       "      <th>2</th>\n",
       "      <td>0.012500</td>\n",
       "      <td>4.164940</td>\n",
       "      <td>4.421046e-04</td>\n",
       "      <td>0.010614</td>\n",
       "    </tr>\n",
       "    <tr>\n",
       "      <th>3</th>\n",
       "      <td>0.006250</td>\n",
       "      <td>4.165272</td>\n",
       "      <td>1.105255e-04</td>\n",
       "      <td>0.002653</td>\n",
       "    </tr>\n",
       "    <tr>\n",
       "      <th>4</th>\n",
       "      <td>0.003125</td>\n",
       "      <td>4.165355</td>\n",
       "      <td>2.763134e-05</td>\n",
       "      <td>0.000663</td>\n",
       "    </tr>\n",
       "    <tr>\n",
       "      <th>5</th>\n",
       "      <td>0.001563</td>\n",
       "      <td>4.165376</td>\n",
       "      <td>6.907832e-06</td>\n",
       "      <td>0.000166</td>\n",
       "    </tr>\n",
       "    <tr>\n",
       "      <th>6</th>\n",
       "      <td>0.000781</td>\n",
       "      <td>4.165381</td>\n",
       "      <td>1.726958e-06</td>\n",
       "      <td>0.000041</td>\n",
       "    </tr>\n",
       "    <tr>\n",
       "      <th>7</th>\n",
       "      <td>0.000391</td>\n",
       "      <td>4.165382</td>\n",
       "      <td>4.317384e-07</td>\n",
       "      <td>0.000010</td>\n",
       "    </tr>\n",
       "    <tr>\n",
       "      <th>8</th>\n",
       "      <td>0.000195</td>\n",
       "      <td>4.165382</td>\n",
       "      <td>1.079344e-07</td>\n",
       "      <td>0.000003</td>\n",
       "    </tr>\n",
       "  </tbody>\n",
       "</table>\n",
       "</div>"
      ],
      "text/plain": [
       "        1_h    2_dfdx  3_Actual Abs. Err.  4_Actual Relative Err.\n",
       "0  0.050000  4.158308        7.074486e-03                0.169840\n",
       "1  0.025000  4.163614        1.768459e-03                0.042456\n",
       "2  0.012500  4.164940        4.421046e-04                0.010614\n",
       "3  0.006250  4.165272        1.105255e-04                0.002653\n",
       "4  0.003125  4.165355        2.763134e-05                0.000663\n",
       "5  0.001563  4.165376        6.907832e-06                0.000166\n",
       "6  0.000781  4.165381        1.726958e-06                0.000041\n",
       "7  0.000391  4.165382        4.317384e-07                0.000010\n",
       "8  0.000195  4.165382        1.079344e-07                0.000003"
      ]
     },
     "execution_count": 7,
     "metadata": {},
     "output_type": "execute_result"
    }
   ],
   "source": [
    "h = np.zeros(9)\n",
    "x = np.zeros(9)+x0\n",
    "for i in range(NoOfItration):\n",
    "    h[i] = 0.05/2**i\n",
    "xmines=x-h\n",
    "xplus = x+h\n",
    "fmins=np.exp(xmines)*np.sin(xmines)\n",
    "fplus=np.exp(xplus)*np.sin(xplus)\n",
    "num=fplus - fmins\n",
    "deriv=num/(2*h)\n",
    "dfcentral = pd.DataFrame(\n",
    "    {'1_h':h,\n",
    "     '2_dfdx': deriv,\n",
    "     '3_Actual Abs. Err.': np.abs(real_value-deriv),\n",
    "     '4_Actual Relative Err.': np.abs((real_value-deriv)/real_value*100)\n",
    "    })\n",
    "dfcentral"
   ]
  },
  {
   "cell_type": "markdown",
   "metadata": {},
   "source": [
    "#### Second Order Derivative :-"
   ]
  },
  {
   "cell_type": "markdown",
   "metadata": {},
   "source": [
    "##### How to find the analytical answer with Python"
   ]
  },
  {
   "cell_type": "code",
   "execution_count": 8,
   "metadata": {},
   "outputs": [
    {
     "name": "stdout",
     "output_type": "stream",
     "text": [
      "yprime =  exp(x)*sin(x) + exp(x)*cos(x)\n"
     ]
    }
   ],
   "source": [
    "from sympy import *\n",
    "x = Symbol('x')\n",
    "z = exp(x)*sin(x)\n",
    "yDprime = z.diff(x,x)\n",
    "print(\"yprime = \", yprime)\n",
    "f = lambdify(x, yDprime, 'numpy')"
   ]
  },
  {
   "cell_type": "code",
   "execution_count": 9,
   "metadata": {},
   "outputs": [
    {
     "name": "stdout",
     "output_type": "stream",
     "text": [
      "The Second Order Derivative using analytic method =  -4.322959836679138\n"
     ]
    }
   ],
   "source": [
    "real_value = f(x0)\n",
    "print(\"The Second Order Derivative using analytic method = \", real_value)"
   ]
  },
  {
   "cell_type": "markdown",
   "metadata": {},
   "source": [
    "##### How to find the numerical answer with Python\n",
    "\n",
    "\n",
    "$f''(x)= \\frac{f(x+h)-2f(x)+f(x-h)}{h^2} - \\frac{h^2}{24}f^{(4)}(\\zeta(x))$"
   ]
  },
  {
   "cell_type": "code",
   "execution_count": 12,
   "metadata": {},
   "outputs": [
    {
     "data": {
      "text/html": [
       "<div>\n",
       "<style scoped>\n",
       "    .dataframe tbody tr th:only-of-type {\n",
       "        vertical-align: middle;\n",
       "    }\n",
       "\n",
       "    .dataframe tbody tr th {\n",
       "        vertical-align: top;\n",
       "    }\n",
       "\n",
       "    .dataframe thead th {\n",
       "        text-align: right;\n",
       "    }\n",
       "</style>\n",
       "<table border=\"1\" class=\"dataframe\">\n",
       "  <thead>\n",
       "    <tr style=\"text-align: right;\">\n",
       "      <th></th>\n",
       "      <th>1_h</th>\n",
       "      <th>2_dfdx</th>\n",
       "      <th>3_Actual Abs. Err.</th>\n",
       "      <th>4_Actual Relative Err.</th>\n",
       "    </tr>\n",
       "  </thead>\n",
       "  <tbody>\n",
       "    <tr>\n",
       "      <th>0</th>\n",
       "      <td>0.050000</td>\n",
       "      <td>-4.328232</td>\n",
       "      <td>5.272085e-03</td>\n",
       "      <td>0.121955</td>\n",
       "    </tr>\n",
       "    <tr>\n",
       "      <th>1</th>\n",
       "      <td>0.025000</td>\n",
       "      <td>-4.324278</td>\n",
       "      <td>1.318078e-03</td>\n",
       "      <td>0.030490</td>\n",
       "    </tr>\n",
       "    <tr>\n",
       "      <th>2</th>\n",
       "      <td>0.012500</td>\n",
       "      <td>-4.323289</td>\n",
       "      <td>3.295229e-04</td>\n",
       "      <td>0.007623</td>\n",
       "    </tr>\n",
       "    <tr>\n",
       "      <th>3</th>\n",
       "      <td>0.006250</td>\n",
       "      <td>-4.323042</td>\n",
       "      <td>8.238093e-05</td>\n",
       "      <td>0.001906</td>\n",
       "    </tr>\n",
       "    <tr>\n",
       "      <th>4</th>\n",
       "      <td>0.003125</td>\n",
       "      <td>-4.322980</td>\n",
       "      <td>2.059520e-05</td>\n",
       "      <td>0.000476</td>\n",
       "    </tr>\n",
       "    <tr>\n",
       "      <th>5</th>\n",
       "      <td>0.001563</td>\n",
       "      <td>-4.322965</td>\n",
       "      <td>5.148434e-06</td>\n",
       "      <td>0.000119</td>\n",
       "    </tr>\n",
       "    <tr>\n",
       "      <th>6</th>\n",
       "      <td>0.000781</td>\n",
       "      <td>-4.322961</td>\n",
       "      <td>1.285992e-06</td>\n",
       "      <td>0.000030</td>\n",
       "    </tr>\n",
       "    <tr>\n",
       "      <th>7</th>\n",
       "      <td>0.000391</td>\n",
       "      <td>-4.322960</td>\n",
       "      <td>3.153788e-07</td>\n",
       "      <td>0.000007</td>\n",
       "    </tr>\n",
       "    <tr>\n",
       "      <th>8</th>\n",
       "      <td>0.000195</td>\n",
       "      <td>-4.322960</td>\n",
       "      <td>6.508585e-08</td>\n",
       "      <td>0.000002</td>\n",
       "    </tr>\n",
       "  </tbody>\n",
       "</table>\n",
       "</div>"
      ],
      "text/plain": [
       "        1_h    2_dfdx  3_Actual Abs. Err.  4_Actual Relative Err.\n",
       "0  0.050000 -4.328232        5.272085e-03                0.121955\n",
       "1  0.025000 -4.324278        1.318078e-03                0.030490\n",
       "2  0.012500 -4.323289        3.295229e-04                0.007623\n",
       "3  0.006250 -4.323042        8.238093e-05                0.001906\n",
       "4  0.003125 -4.322980        2.059520e-05                0.000476\n",
       "5  0.001563 -4.322965        5.148434e-06                0.000119\n",
       "6  0.000781 -4.322961        1.285992e-06                0.000030\n",
       "7  0.000391 -4.322960        3.153788e-07                0.000007\n",
       "8  0.000195 -4.322960        6.508585e-08                0.000002"
      ]
     },
     "execution_count": 12,
     "metadata": {},
     "output_type": "execute_result"
    }
   ],
   "source": [
    "h = np.zeros(9)\n",
    "x = np.zeros(9)+x0\n",
    "for i in range(NoOfItration):\n",
    "    h[i] = 0.05/2**i\n",
    "xmines=x-h\n",
    "xplus = x+h\n",
    "fmins=np.exp(xmines)*np.sin(xmines)\n",
    "f=np.exp(x)*np.sin(x)\n",
    "fplus=np.exp(xplus)*np.sin(xplus)\n",
    "num=fplus - 2*f + fmins\n",
    "deriv=num/(h**2)\n",
    "dfDD = pd.DataFrame(\n",
    "    {'1_h':h,\n",
    "     '2_dfdx': deriv,\n",
    "     '3_Actual Abs. Err.': np.abs(real_value-deriv),\n",
    "     '4_Actual Relative Err.': np.abs((real_value-deriv)/real_value*100)\n",
    "    })\n",
    "dfDD"
   ]
  },
  {
   "cell_type": "code",
   "execution_count": null,
   "metadata": {},
   "outputs": [],
   "source": []
  },
  {
   "cell_type": "code",
   "execution_count": 11,
   "metadata": {},
   "outputs": [
    {
     "ename": "SyntaxError",
     "evalue": "invalid syntax (<ipython-input-11-c3de250617fe>, line 1)",
     "output_type": "error",
     "traceback": [
      "\u001b[0;36m  File \u001b[0;32m\"<ipython-input-11-c3de250617fe>\"\u001b[0;36m, line \u001b[0;32m1\u001b[0m\n\u001b[0;31m    x = zeros(1,9)+1.9; % all 9 x-values = 1.9\u001b[0m\n\u001b[0m                        ^\u001b[0m\n\u001b[0;31mSyntaxError\u001b[0m\u001b[0;31m:\u001b[0m invalid syntax\n"
     ]
    }
   ],
   "source": [
    "x = zeros(1,9)+1.9; % all 9 x-values = 1.9\n",
    "for i=1:NoOfItration\n",
    "    h(i)=0.05/2^(i-1); % half h each time\n",
    "end\n",
    "xplus=x+h;\n",
    "f=exp(x).*sin(x);\n",
    "fplus=exp(xplus).*sin(xplus);\n",
    "num=fplus-f; \t\t\t% calculate numerator\n",
    "deriv=num./h;\t\t\t% divide by h\n",
    "fprintf('| h          | df(x0)/dx    |Actual Abs. Err. | Actual Relative Err.|\\n')\n",
    "for i=1:NoOfItration\n",
    "fprintf('| %f   | %f     | %f        | %f            |\\n', h(i), deriv(i), abs(real_value-deriv(i)),  abs(real_value-deriv(i))/real_value*100)\n",
    "end"
   ]
  },
  {
   "cell_type": "code",
   "execution_count": null,
   "metadata": {},
   "outputs": [],
   "source": []
  },
  {
   "cell_type": "code",
   "execution_count": null,
   "metadata": {
    "slideshow": {
     "slide_type": "subslide"
    }
   },
   "outputs": [],
   "source": [
    "# Write a function for numerical differentiation\n",
    "def diff(f,x,method='central',h=0.01):\n",
    "    '''Compute the difference formula for f'(a) with step size h.\n",
    "\n",
    "    Parameters\n",
    "    ----------\n",
    "    f : function\n",
    "        Vectorized function of one variable\n",
    "    x : number\n",
    "        Compute derivative at x \n",
    "    method : string\n",
    "        Difference formula: 'forward', 'backward' or 'central'\n",
    "    h : number\n",
    "        Step size in difference formula\n",
    "\n",
    "    Returns\n",
    "    -------\n",
    "    float\n",
    "        Difference formula:\n",
    "            central: f(x+h) - f(x-h))/2h\n",
    "            forward: f(x+h) - f(x))/h\n",
    "            backward: f(x) - f(x-h))/h            \n",
    "    '''\n",
    "    if method == 'central':\n",
    "        numerator = f(x + h) - f(x - h)\n",
    "        derivative = numerator/(2.0*h)\n",
    "        return derivative\n",
    "    elif method == 'forward':\n",
    "        numerator = f(x + h) - f(x)\n",
    "        derivative = numerator/h\n",
    "        return derivative\n",
    "        return (f(x + h) - f(x))/h\n",
    "    elif method == 'backward':\n",
    "        numerator = f(x) - f(x - h)\n",
    "        derivative = numerator/h\n",
    "        return derivative    \n",
    "    else:\n",
    "        raise ValueError(\"Method must be 'central', 'forward' or 'backward'.\")\n"
   ]
  },
  {
   "cell_type": "code",
   "execution_count": null,
   "metadata": {},
   "outputs": [],
   "source": [
    "derivative(np.sin*np.cos,x)"
   ]
  },
  {
   "cell_type": "code",
   "execution_count": null,
   "metadata": {},
   "outputs": [],
   "source": [
    "import numpy as np\n",
    "import matplotlib.pyplot as plt\n",
    "%matplotlib inline\n",
    "x = np.linspace(0,5*np.pi,100)\n",
    "x = np.linspace(-4, 0.001, num=500)\n",
    "np.linspace(2.0, 3.0, num=5)\n",
    "\n",
    "dydx = derivative(np.sin * np.cos,x)\n",
    "\n",
    "dYdx = np.exp(x) * np.cos(x)\n",
    "\n",
    "plt.figure(figsize=(12,5))\n",
    "plt.plot(x,dydx,'r.',label='Central Difference')\n",
    "plt.plot(x,dYdx,'b',label='True Value')\n",
    "\n",
    "plt.title('Central Difference Derivative of y = cos(x)')\n",
    "plt.legend(loc='best')\n",
    "plt.show()"
   ]
  },
  {
   "cell_type": "code",
   "execution_count": null,
   "metadata": {},
   "outputs": [],
   "source": [
    "from math import exp, cos, log, pi\n",
    "\n",
    "def diff(f, x, h = 1E-6):\n",
    "    numerator = f(x + h) - f(x - h)\n",
    "    derivative = numerator/(2.0*h)\n",
    "    return derivative"
   ]
  },
  {
   "cell_type": "markdown",
   "metadata": {
    "slideshow": {
     "slide_type": "subslide"
    }
   },
   "source": [
    "Apply the above formula to differentiate $f(x) = e^x$ at x = 0, $f(x) = e^{−2x}$ at\n",
    "x = 0, $f(x) = \\cos(x)$ at x = 2$\\pi$ , and $f(x) = \\ln(x)$ at x = 1. \n",
    "\n",
    "Use $h = 0.01$.\n",
    "\n",
    "In each case, write out the error, i.e., the difference between the exact derivative and the result of the formula above."
   ]
  },
  {
   "cell_type": "code",
   "execution_count": null,
   "metadata": {
    "slideshow": {
     "slide_type": "subslide"
    }
   },
   "outputs": [],
   "source": [
    "h = 0.01 # The step size\n",
    "\n",
    "x = 0\n",
    "f = exp\n",
    "derivative = diff(f, x, h)\n",
    "print(\"The approximate derivative of exp(x) at x = 0 is: %f. The error is %f.\" % (derivative, abs(derivative - 1))) \n",
    "# The 'abs' function returns the absolute value."
   ]
  },
  {
   "cell_type": "code",
   "execution_count": null,
   "metadata": {
    "slideshow": {
     "slide_type": "subslide"
    }
   },
   "outputs": [],
   "source": [
    "x = 0\n",
    "# Here it is not possible to simply pass in the math module's exp function,\n",
    "# so we need to define our own function instead.\n",
    "def g(x):\n",
    "    return exp(-2*x)\n",
    "\n",
    "f = g\n",
    "derivative = diff(f, x, h)\n",
    "print(\"The approximate derivative of exp(-2*x) at x = 0 is: %f. The error is %f.\" % (derivative, abs(derivative - (-2.0))))"
   ]
  },
  {
   "cell_type": "code",
   "execution_count": null,
   "metadata": {
    "slideshow": {
     "slide_type": "subslide"
    }
   },
   "outputs": [],
   "source": [
    "x = 2*pi\n",
    "f = cos\n",
    "derivative = diff(f, x, h)\n",
    "print(\"The approximate derivative of cos(x) at x = 2*pi is: %f. The error is %f.\" % (derivative, abs(derivative - 0)))"
   ]
  },
  {
   "cell_type": "code",
   "execution_count": null,
   "metadata": {
    "slideshow": {
     "slide_type": "subslide"
    }
   },
   "outputs": [],
   "source": [
    "x = 1\n",
    "f = log # By default, log(x) is the natural log (i.e. the log to the base 'e')\n",
    "derivative = diff(f, x, h)\n",
    "print(\"The approximate derivative of ln(x) at x = 0 is: %f. The error is %f.\" % (derivative, abs(derivative - 1)))"
   ]
  },
  {
   "cell_type": "markdown",
   "metadata": {
    "slideshow": {
     "slide_type": "slide"
    }
   },
   "source": [
    "## <span style=\"color:blue\">Exercise 2.3: Compute the derivative of $\\sin(x)$</span>\n",
    "\n",
    "Compute \n",
    "\n",
    "$$\\frac{d(\\sin x)}{dx}\\qquad\\textrm{at}\\qquad x = 0.8$$\n",
    "\n",
    "using (a) forward differencing and (b) central differencing. \n",
    "\n",
    "Write some code that evaluates these derivatives for decreasing values of $h$ (start with $h=1.0$ and keep halving) and compare the values against the exact solution.\n",
    "\n",
    "Plot the convergence of your two methods."
   ]
  },
  {
   "cell_type": "markdown",
   "metadata": {
    "slideshow": {
     "slide_type": "subslide"
    }
   },
   "source": [
    "You should get something that looks like this\n",
    "\n",
    "![\"Convergence plot\"](images/fd_cd_convergence.png)"
   ]
  },
  {
   "cell_type": "markdown",
   "metadata": {
    "slideshow": {
     "slide_type": "slide"
    }
   },
   "source": [
    "## Calculating second derivatives\n",
    "\n",
    "Numerical differentiation may be extended to the second derivative by noting that the second derivative is the derivative of the first derivative. That is, if we define a new function $g$ for a second, where:\n",
    "\n",
    "$$ g(x)=f'(x) $$\n",
    "\n",
    "then\n",
    "\n",
    "$$ f''(x)=g'(x) $$\n",
    "\n",
    "and so we can just apply our differencing formula twice in order to achieve a second derivative (and so on for even higher  derivatives)."
   ]
  },
  {
   "cell_type": "markdown",
   "metadata": {
    "slideshow": {
     "slide_type": "subslide"
    }
   },
   "source": [
    "We have noted above that the central difference method, being second-order accurate, is superior to the forward difference method so we will choose to extend that.\n",
    "\n",
    "In order to calculate $f''(x_0)$ using a central difference method, we first calculate $f'(x)$ for each of two half intervals, one to the left of $x_0$ and one to the right:\n",
    "\n",
    "$$ f'\\left(x_0+\\frac{h}{2}\\right)\\approx\\frac{f(x_0+h)-f(x_0)}{h},$$\n",
    "$$  f'\\left(x_0-\\frac{h}{2}\\right)\\approx\\frac{f(x_0)-f(x_0-h)}{h}.$$"
   ]
  },
  {
   "cell_type": "markdown",
   "metadata": {
    "slideshow": {
     "slide_type": "subslide"
    }
   },
   "source": [
    "Of course the things on the RHS are first-order forward and backward differences if we were to consider the LHS at $x_0$. However, by considering the LHS at $x_0\\pm h/2$ they are in this case clearly second-order *central* differences where the denominator of the RHS is $2\\times (h/2)$.\n",
    "\n",
    "We can now calculate the second derivative using these two values. Note that we know $f'(x)$ at the points $x_0\\pm{h}/{2}$, which are only $h$ rather than $2h$ apart. Hence:\n",
    "\n",
    "$$\n",
    "\\begin{align}\n",
    "    f''(x_0)&\\approx\\frac{f'(x_0+\\frac{h}{2})-f'(x_0-\\frac{h}{2})}{h}\\\\\n",
    "    &\\approx\\frac{\\frac{f(x_0+h)-f(x_0)}{h}-\\frac{f(x_0)-f(x_0-h)}{h}}{h}\\\\\n",
    "    &\\approx\\frac{f(x_0+h)-2f(x_0)+f(x_0-h)}{h^2}\n",
    "\\end{align}$$"
   ]
  },
  {
   "cell_type": "markdown",
   "metadata": {
    "slideshow": {
     "slide_type": "slide"
    }
   },
   "source": [
    "## <span style=\"color:blue\">Exercise 2.4: Compute second derivative</span>\n",
    "\n",
    "Calculate the second derivative $f''$ at $x = 1$ using the data below:\n",
    "\n",
    "$f(0.84) = 0.431711$\n",
    "\n",
    "$f(0.92) = 0.398519$\n",
    "\n",
    "$f(1.00) = 0.367879$\n",
    "\n",
    "$f(1.08) = 0.339596$\n",
    "\n",
    "$f(1.16) = 0.313486$\n",
    "\n",
    "You should get 0.36828"
   ]
  },
  {
   "cell_type": "markdown",
   "metadata": {
    "slideshow": {
     "slide_type": "slide"
    }
   },
   "source": [
    "## Aside: Non-central differencing and differentiation by polynomial fit\n",
    "\n",
    "In this particular case we were given more data than we actually used. An alternative approach would be to use *non-centred differencing*, e.g. the following is also a valid approximation to the second derivative\n",
    "\n",
    "$$\n",
    "\\begin{align}\n",
    "    f''(x_0)\\approx\\frac{f(x_0+2h)-2f(x_0+h)+f(x_0)}{h^2}\n",
    "\\end{align}$$\n",
    "\n",
    "This can come in handy if we need to approximate the value of derivatives at or near to a boundary where we don't have data beyond that boundary.\n",
    "\n",
    "If we wanted to use all of this data, an alternative would be to fit a polynomial to this data, and then differentiate this analytical expression exactly to approximate the derivative at any point between 0.84 and 1.16 (recalling that extrapolation is dangerous)."
   ]
  },
  {
   "cell_type": "markdown",
   "metadata": {
    "slideshow": {
     "slide_type": "slide"
    }
   },
   "source": [
    "## Numerical methods for ODEs\n",
    "\n",
    "One of the most important applications of numerical mathematics in the sciences is the numerical solution of ordinary differential equations (ODEs). This is a vast topic which rapidly becomes somewhat advanced, so we will restrict ourselves here to a very brief introduction to the solution of first order ODEs. A much more comprehensive treatment of this subject is to be found in the Numerical Methods 2 module.\n",
    "\n",
    "Suppose we have the general first-order ODE:\n",
    "\n",
    "\\begin{align}\n",
    "u'(t)&=f(u(t),t) \\\\\n",
    "u(t_0)&=u_0\n",
    "\\end{align}\n",
    "\n",
    "[Notation: For $u=u(t)$, $\\frac{du}{dt}=u'=\\dot{u}$.]"
   ]
  },
  {
   "cell_type": "markdown",
   "metadata": {
    "slideshow": {
     "slide_type": "slide"
    }
   },
   "source": [
    "That is, the derivative of $u$ with respect to $t$ is some known function of $u$ and $t$, and we also know the initial condition of $u$ at some initial time $t_0$.\n",
    "\n",
    "If we manage to solve this equation analytically, the solution will be a function $u(t)$ which is defined for every $t>t_0$. In common with all of the numerical methods we will encounter in this module, our objective is to find an approximate solution to the ODE at a finite set of points. In this case, we will attempt to find approximate solutions at $t=t_0,t_0+h,t_0+2h,t_0+3h,\\ldots$.\n",
    "\n",
    "It is frequently useful to think of the independent variable, $t$, as representing time. A numerical method steps forward in time units of $h$, attempting to calculate $u(t+h)$ in using the previously calculated value $u(t)$. "
   ]
  },
  {
   "cell_type": "markdown",
   "metadata": {
    "slideshow": {
     "slide_type": "slide"
    }
   },
   "source": [
    "### Euler's method\n",
    "\n",
    "To derive a numerical method, we can first turn once again to the Taylor\n",
    "series. In this case, we could write:\n",
    "\n",
    "$$ u(t+h)=u(t)+h u'(t) + O(h^2) $$\n",
    "\n",
    "Using the definition of our ODE above, we can substitute in for $u'(t)$:\n",
    "\n",
    "$$ u(t+h)=u(t)+h f(u(t),t)+ O(h^2).$$\n",
    "\n",
    "Notice that the value of $u$ used in the evaluation of $f$ is that at time $t$. This simple scheme is named **Euler's method** after the 18th century Swiss mathematician, Leonard Euler."
   ]
  },
  {
   "cell_type": "markdown",
   "metadata": {
    "slideshow": {
     "slide_type": "subslide"
    }
   },
   "source": [
    "This is what is known as an explicit method, because the function $f$ in this relation is evaluated at the old time level $t$\n",
    "-- i.e. we have all the information required at time $t$ to explicitly compute the right-hand-side,\n",
    "and hence easily find the new value for $u(t+h)$.\n",
    "\n",
    "This form of the method is therefore more correctly called either Explicit Euler or Forward Euler.  We could also evaluate the RHS at some time between $t$ and $t+h$ (in the case of $t+h$ this method is called Implicit or Backward Euler) this is more complex to solve for the new $u(t+h)$ but can have advantageous accuracy and stability properties."
   ]
  },
  {
   "cell_type": "markdown",
   "metadata": {
    "slideshow": {
     "slide_type": "subslide"
    }
   },
   "source": [
    "The formula given is used to calculate the value of $u(t)$ one time step forward from the last known value. The error is therefore the local truncation error. If we actually wish to know the value at some fixed time $T$ then we will have to calculate $(T-t_0)/h$ steps of the method. This sum over $O(1/h)$ steps results in a global truncation error for Euler's method of $O(h)$.\n",
    "\n",
    "In other words, Euler's method is only first-order accurate -- if we halve $h$ we will need to do double the amount of work and the error should correspondingly halve; if we had a second-order method we would expect the error to reduce by a factor of 4 for every doubling in effort!"
   ]
  },
  {
   "cell_type": "markdown",
   "metadata": {
    "slideshow": {
     "slide_type": "subslide"
    }
   },
   "source": [
    "To illustrate Euler's method, and convey the fundamental idea of all time stepping methods, we'll use Euler's method to solve one of the simplest of all ODEs:\n",
    "\n",
    "$$ u'(t)=u(t),$$\n",
    "$$ u(0)=1.$$\n",
    "\n",
    "We know, of course, that the solution to this equation is $u(t)=e^t$, but let's ignore that for one moment and evaluate $u(0.1)$ using Euler's method with steps of $0.05$. The first step is:\n",
    "\n",
    "$$\\begin{align}\n",
    "  u(0.05)&\\approx u(0)+0.05u'(0)\\\\\n",
    "  &\\approx1+.05\\times1\\\\\n",
    "  &\\approx 1.05\n",
    "\\end{align}$$"
   ]
  },
  {
   "cell_type": "markdown",
   "metadata": {
    "slideshow": {
     "slide_type": "subslide"
    }
   },
   "source": [
    "Now that we know $u(0.05)$, we can calculate the second step:\n",
    "\n",
    "$$\n",
    "\\begin{align}\n",
    "  u(0.1)&\\approx u(0.05)+0.05u'(0.05)\\\\\n",
    "  &\\approx 1.05+.05\\times1.05\\\\\n",
    "  &\\approx 1.1025\n",
    "\\end{align}$$\n",
    "\n",
    "Now the actual value of $e^{0.1}$ is around $1.1051$ so we're a couple of percent off even over a very short time interval and only a couple of steps of the algorithm."
   ]
  },
  {
   "cell_type": "markdown",
   "metadata": {
    "slideshow": {
     "slide_type": "slide"
    }
   },
   "source": [
    "## <span style=\"color:blue\">Exercise 2.5: Implementing Forward Euler's method</span>\n",
    "\n",
    "Write a function *euler*( *f*, *u0*, *t0*, *t_max*, *h*) that takes as arguments the function $f(u,t)$ on the RHS of our ODE,\n",
    "an initial value for $u$, the start and end time of the integration, and the time step.\n",
    "\n",
    "Use it to integrate the following ODE problems up to time $t=10$\n",
    "\n",
    "$$u'(t)=u(t),\\quad u(0)=1$$\n",
    "\n",
    "and \n",
    "\n",
    "$$u'(t)=\\cos(t),\\quad u(0)=0$$\n",
    "\n",
    "and plot the results. A template to get you started is below."
   ]
  },
  {
   "cell_type": "code",
   "execution_count": null,
   "metadata": {
    "slideshow": {
     "slide_type": "subslide"
    }
   },
   "outputs": [],
   "source": [
    "%pylab inline\n",
    "\n",
    "def euler(f,u0,t0,t_max,h):\n",
    "    u=u0; t=t0\n",
    "    # these lists will store all solution values \n",
    "    # and associated time levels for later plotting\n",
    "    u_all=[u0]; t_all=[t0]\n",
    "    \n",
    "    \n",
    "    while ... add your code here\n",
    "    \n",
    "    \n",
    "    \n",
    "    \n",
    "    \n",
    "    \n",
    "    return(u_all,t_all)\n",
    "\n",
    "\n",
    "def f(u,t):\n",
    "    val = u\n",
    "    return val\n",
    "\n",
    "(u_all,t_all) = euler(f,1.0,0.0,10.0,0.1)\n",
    "\n",
    "plot(t_all, u_all)\n",
    "xlabel('t');ylabel('u(t)');grid(True)\n",
    "show()"
   ]
  },
  {
   "cell_type": "markdown",
   "metadata": {
    "slideshow": {
     "slide_type": "slide"
    }
   },
   "source": [
    "### Heun's method\n",
    "\n",
    "Euler's method is first-order accurate because it calculates the derivative using only the information available at the beginning of the time step. As we observed previously, higher-order convergence can be obtained if we also employ information from other points in the interval. Heun's method may be derived by attempting to use derivative information at both the start and the end of the interval:\n",
    "\n",
    "$$\n",
    "\\begin{align}\n",
    "  u(t+h)&\\approx u(t)+\\frac{h}{2}\\left(u'(t)+u'(t+h)\\right)\\\\\n",
    "  &\\approx u(t)+\\frac{h}{2}\\big(f(u(t),t)+f(u(t+h),t+h)\\big)\n",
    "\\end{align}$$\n",
    "\n",
    "The difficulty with this approach is that we now require $u(t+h)$ in order to calculate the final term in the equation, and that's what we set out to calculate so we don't know it yet! So at this point we have an example of an implicit algorithm and at this stage the above ODE solver would be referred to as the trapezoidal method if we could solve it exactly for $u(t+h)$."
   ]
  },
  {
   "cell_type": "markdown",
   "metadata": {
    "slideshow": {
     "slide_type": "subslide"
    }
   },
   "source": [
    "Perhaps the simplest solution to this dilemma, the one adopted in Heun's method, is to use a first guess at $x(t+h)$ calculated using Euler's method:\n",
    "\n",
    "$$ \\tilde{u}(t+h)=u(t)+hf(u(t),t) $$\n",
    "\n",
    "This first guess is then used to solve for $u(t+h)$ using:\n",
    "\n",
    "$$ u(t+h)\\approx u(t)+\\frac{h}{2}\\big(f(u(t),t)+f(\\tilde{u}(t+h),t+h)\\big)$$\n",
    "\n",
    "The generic term for schemes of this type is **predictor-corrector**. The initial calculation of $\\tilde{u}(t+h)$ is used to predict the new value of $u$ and then this is used in a more accurate calculation to produce a more correct value. \n",
    "\n",
    "Note that Heun's method is $O(h^2)$, i.e. a second-order method."
   ]
  },
  {
   "cell_type": "markdown",
   "metadata": {
    "slideshow": {
     "slide_type": "slide"
    }
   },
   "source": [
    "## <span style=\"color:blue\">Exercise 2.6: Implementing Heun's method</span>\n",
    "\n",
    "Repeat the previous exercise for this method.\n",
    "\n",
    "For some ODEs you know the exact solution to compare the errors between Euler's and Heun's method, and how they vary with time step."
   ]
  },
  {
   "cell_type": "markdown",
   "metadata": {
    "slideshow": {
     "slide_type": "subslide"
    }
   },
   "source": [
    "You should be able to get a plot that looks like this for the case $u'=u$.\n",
    "\n",
    "![\"Comparison between the Euler and Heun method for the solution of a simple ODE.\"](images/euler_vs_heun.png)"
   ]
  },
  {
   "cell_type": "code",
   "execution_count": null,
   "metadata": {},
   "outputs": [],
   "source": []
  }
 ],
 "metadata": {
  "celltoolbar": "Slideshow",
  "kernelspec": {
   "display_name": "Python 3",
   "language": "python",
   "name": "python3"
  },
  "language_info": {
   "codemirror_mode": {
    "name": "ipython",
    "version": 3
   },
   "file_extension": ".py",
   "mimetype": "text/x-python",
   "name": "python",
   "nbconvert_exporter": "python",
   "pygments_lexer": "ipython3",
   "version": "3.6.0"
  }
 },
 "nbformat": 4,
 "nbformat_minor": 2
}
